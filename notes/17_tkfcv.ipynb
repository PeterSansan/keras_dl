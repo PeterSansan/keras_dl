{
 "cells": [
  {
   "cell_type": "markdown",
   "metadata": {},
   "source": [
    "# 17.K-折交叉验证\n",
    "划重点：Keras与skleran组合函数，并不能传入callback，这限制了他的使用，自动数据划分也有问题，可以用于一些小型网络，不建议在"
   ]
  },
  {
   "cell_type": "code",
   "execution_count": 1,
   "metadata": {},
   "outputs": [
    {
     "name": "stderr",
     "output_type": "stream",
     "text": [
      "Using TensorFlow backend.\n"
     ]
    }
   ],
   "source": [
    "from __future__ import print_function\n",
    "\n",
    "import numpy as np\n",
    "import tensorflow as tf\n",
    "from keras.models import Model\n",
    "from keras.models import Sequential\n",
    "from keras.datasets import imdb\n",
    "from keras.preprocessing import sequence\n",
    "from sklearn.model_selection import cross_val_score\n",
    "from keras.wrappers.scikit_learn import KerasClassifier\n",
    "from keras.layers import Dense, Embedding, LSTM, TimeDistributed, Input, Bidirectional,Dropout\n",
    "\n",
    "# 限制显存占比\n",
    "from keras.backend.tensorflow_backend import set_session\n",
    "config = tf.ConfigProto()\n",
    "config.gpu_options.allow_growth = True\n",
    "#config.gpu_options.per_process_gpu_memory_fraction = 1.0\n",
    "sess = tf.Session(config=config)\n",
    "set_session(sess)\n",
    "\n",
    "# Set random seed\n",
    "np.random.seed(0)"
   ]
  },
  {
   "cell_type": "markdown",
   "metadata": {},
   "source": [
    "### 一、加载与处理数据"
   ]
  },
  {
   "cell_type": "code",
   "execution_count": 2,
   "metadata": {},
   "outputs": [
    {
     "name": "stdout",
     "output_type": "stream",
     "text": [
      "Loading data...\n",
      "25000 train sequences\n",
      "25000 test sequences\n",
      "Pad sequences (samples x time)\n",
      "x_train shape: (25000, 80)\n",
      "x_test shape: (25000, 80)\n"
     ]
    }
   ],
   "source": [
    "max_features = 20000\n",
    "maxlen = 80  # cut texts after this number of words (among top max_features most common words)\n",
    "batch_size = 32\n",
    "\n",
    "print('Loading data...')\n",
    "(x_traina, y_train), (x_test, y_test) = imdb.load_data(num_words=max_features)\n",
    "print(len(x_traina), 'train sequences')\n",
    "print(len(x_test), 'test sequences')\n",
    "\n",
    "print('Pad sequences (samples x time)')\n",
    "x_train = sequence.pad_sequences(x_traina, maxlen=maxlen)\n",
    "x_test = sequence.pad_sequences(x_test, maxlen=maxlen)\n",
    "print('x_train shape:', x_train.shape)\n",
    "print('x_test shape:', x_test.shape)"
   ]
  },
  {
   "cell_type": "markdown",
   "metadata": {},
   "source": [
    "### 二、模型构建\n",
    "【sequential 模型】"
   ]
  },
  {
   "cell_type": "code",
   "execution_count": null,
   "metadata": {},
   "outputs": [],
   "source": [
    "def create_network():\n",
    "    model = Sequential()\n",
    "    model.add(Embedding(max_features, 128))  # 最多取20000个词，128维输出向量\n",
    "    # model.add(LSTM(128, dropout=0.2, recurrent_dropout=0.2))  //原来的\n",
    "    model.add(LSTM(128,dropout=0.5))\n",
    "    model.add(Dense(1, activation='sigmoid')) # 输出层\n",
    "    model.summary()\n",
    "    # try using different optimizers and different optimizer configs\n",
    "    model.compile(loss='binary_crossentropy',\n",
    "                  optimizer='adam',\n",
    "                  metrics=['accuracy'])\n",
    "    return model"
   ]
  },
  {
   "cell_type": "markdown",
   "metadata": {},
   "source": [
    "【Functional 模型】"
   ]
  },
  {
   "cell_type": "code",
   "execution_count": 3,
   "metadata": {
    "collapsed": true
   },
   "outputs": [],
   "source": [
    "def create_network():\n",
    "    input = Input(shape=(maxlen,))\n",
    "    embedded = Embedding(max_features, 128)(input)\n",
    "    blstm = Bidirectional(LSTM(128), merge_mode='sum')(embedded)\n",
    "    output = Dense(1, activation='sigmoid')(blstm)\n",
    "    model = Model(inputs=input, outputs=output)\n",
    "    model.compile(loss='binary_crossentropy', optimizer='Adam', metrics=['accuracy'])\n",
    "    model.summary()\n",
    "    return model"
   ]
  },
  {
   "cell_type": "markdown",
   "metadata": {},
   "source": [
    "### 三、使用Keras分类器，包含fit"
   ]
  },
  {
   "cell_type": "code",
   "execution_count": 4,
   "metadata": {
    "collapsed": true
   },
   "outputs": [],
   "source": [
    "# Wrap Keras model so it can be used by scikit-learn\n",
    "neural_network = KerasClassifier(build_fn=create_network, \n",
    "                                 epochs=5, \n",
    "                                 batch_size=batch_size, \n",
    "                                 verbose=1)"
   ]
  },
  {
   "cell_type": "markdown",
   "metadata": {},
   "source": [
    "### 四、K折交叉验证"
   ]
  },
  {
   "cell_type": "code",
   "execution_count": 5,
   "metadata": {},
   "outputs": [
    {
     "name": "stdout",
     "output_type": "stream",
     "text": [
      "_________________________________________________________________\n",
      "Layer (type)                 Output Shape              Param #   \n",
      "=================================================================\n",
      "input_1 (InputLayer)         (None, 80)                0         \n",
      "_________________________________________________________________\n",
      "embedding_1 (Embedding)      (None, 80, 128)           2560000   \n",
      "_________________________________________________________________\n",
      "bidirectional_1 (Bidirection (None, 128)               263168    \n",
      "_________________________________________________________________\n",
      "dense_1 (Dense)              (None, 1)                 129       \n",
      "=================================================================\n",
      "Total params: 2,823,297\n",
      "Trainable params: 2,823,297\n",
      "Non-trainable params: 0\n",
      "_________________________________________________________________\n",
      "Epoch 1/5\n",
      "16666/16666 [==============================] - 108s 6ms/step - loss: 0.4531 - acc: 0.7829\n",
      "Epoch 2/5\n",
      "16666/16666 [==============================] - 79s 5ms/step - loss: 0.2303 - acc: 0.9082\n",
      "Epoch 3/5\n",
      "16666/16666 [==============================] - 79s 5ms/step - loss: 0.0981 - acc: 0.9657\n",
      "Epoch 4/5\n",
      "16666/16666 [==============================] - 79s 5ms/step - loss: 0.0422 - acc: 0.9870\n",
      "Epoch 5/5\n",
      "16666/16666 [==============================] - 79s 5ms/step - loss: 0.0230 - acc: 0.9926\n",
      "8334/8334 [==============================] - 8s 987us/step\n",
      "_________________________________________________________________\n",
      "Layer (type)                 Output Shape              Param #   \n",
      "=================================================================\n",
      "input_2 (InputLayer)         (None, 80)                0         \n",
      "_________________________________________________________________\n",
      "embedding_2 (Embedding)      (None, 80, 128)           2560000   \n",
      "_________________________________________________________________\n",
      "bidirectional_2 (Bidirection (None, 128)               263168    \n",
      "_________________________________________________________________\n",
      "dense_2 (Dense)              (None, 1)                 129       \n",
      "=================================================================\n",
      "Total params: 2,823,297\n",
      "Trainable params: 2,823,297\n",
      "Non-trainable params: 0\n",
      "_________________________________________________________________\n",
      "Epoch 1/5\n",
      "16667/16667 [==============================] - 81s 5ms/step - loss: 0.4529 - acc: 0.7794\n",
      "Epoch 2/5\n",
      "16667/16667 [==============================] - 80s 5ms/step - loss: 0.2331 - acc: 0.9084\n",
      "Epoch 3/5\n",
      "16667/16667 [==============================] - 85s 5ms/step - loss: 0.1189 - acc: 0.9564\n",
      "Epoch 4/5\n",
      "16667/16667 [==============================] - 85s 5ms/step - loss: 0.0424 - acc: 0.9866\n",
      "Epoch 5/5\n",
      "16667/16667 [==============================] - 85s 5ms/step - loss: 0.0286 - acc: 0.9906\n",
      "8333/8333 [==============================] - 8s 971us/step\n",
      "_________________________________________________________________\n",
      "Layer (type)                 Output Shape              Param #   \n",
      "=================================================================\n",
      "input_3 (InputLayer)         (None, 80)                0         \n",
      "_________________________________________________________________\n",
      "embedding_3 (Embedding)      (None, 80, 128)           2560000   \n",
      "_________________________________________________________________\n",
      "bidirectional_3 (Bidirection (None, 128)               263168    \n",
      "_________________________________________________________________\n",
      "dense_3 (Dense)              (None, 1)                 129       \n",
      "=================================================================\n",
      "Total params: 2,823,297\n",
      "Trainable params: 2,823,297\n",
      "Non-trainable params: 0\n",
      "_________________________________________________________________\n",
      "Epoch 1/5\n",
      "16667/16667 [==============================] - 86s 5ms/step - loss: 0.4367 - acc: 0.7918\n",
      "Epoch 2/5\n",
      "16667/16667 [==============================] - 85s 5ms/step - loss: 0.2227 - acc: 0.9131\n",
      "Epoch 3/5\n",
      "16667/16667 [==============================] - 85s 5ms/step - loss: 0.0975 - acc: 0.9654\n",
      "Epoch 4/5\n",
      "16667/16667 [==============================] - 85s 5ms/step - loss: 0.0404 - acc: 0.9865\n",
      "Epoch 5/5\n",
      "16667/16667 [==============================] - 85s 5ms/step - loss: 0.0246 - acc: 0.9920\n",
      "8333/8333 [==============================] - 8s 971us/step\n"
     ]
    },
    {
     "data": {
      "text/plain": [
       "array([ 0.81281497,  0.81315253,  0.81099244])"
      ]
     },
     "execution_count": 5,
     "metadata": {},
     "output_type": "execute_result"
    }
   ],
   "source": [
    "cross_val_score(neural_network, x_train, y_train, cv=3)"
   ]
  }
 ],
 "metadata": {
  "kernelspec": {
   "display_name": "Python 3",
   "language": "python",
   "name": "python3"
  },
  "language_info": {
   "codemirror_mode": {
    "name": "ipython",
    "version": 3
   },
   "file_extension": ".py",
   "mimetype": "text/x-python",
   "name": "python",
   "nbconvert_exporter": "python",
   "pygments_lexer": "ipython3",
   "version": "3.5.2"
  }
 },
 "nbformat": 4,
 "nbformat_minor": 2
}
