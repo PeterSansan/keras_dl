{
 "cells": [
  {
   "cell_type": "markdown",
   "metadata": {},
   "source": [
    "# 2、逻辑回归\n",
    "这个代码可能使浏览器不能正确输出，可以直接运行python代码。或者把fit函数中的verbose改为2"
   ]
  },
  {
   "cell_type": "code",
   "execution_count": 1,
   "metadata": {
    "collapsed": false
   },
   "outputs": [
    {
     "name": "stderr",
     "output_type": "stream",
     "text": [
      "Using TensorFlow backend.\n"
     ]
    }
   ],
   "source": [
    "from keras.models import Sequential\n",
    "from keras.layers import Dense\n",
    "from keras.optimizers import SGD\n",
    "from keras.datasets import mnist\n",
    "from keras.utils import np_utils\n",
    "import numpy as np"
   ]
  },
  {
   "cell_type": "code",
   "execution_count": 2,
   "metadata": {
    "collapsed": true
   },
   "outputs": [],
   "source": [
    "batch_size = 128\n",
    "nb_classes = 10\n",
    "nb_epoch = 100"
   ]
  },
  {
   "cell_type": "code",
   "execution_count": 3,
   "metadata": {
    "collapsed": false
   },
   "outputs": [],
   "source": [
    "# Load MNIST dataset\n",
    "(X_train, y_train), (X_test, y_test) = mnist.load_data()\n",
    "X_train = X_train.reshape(60000, 784)\n",
    "X_test = X_test.reshape(10000, 784)\n",
    "X_train = X_train.astype('float32')\n",
    "X_test = X_test.astype('float32')\n",
    "X_train /= 255\n",
    "X_test /= 255\n",
    "Y_Train = np_utils.to_categorical(y_train, nb_classes)\n",
    "Y_Test = np_utils.to_categorical(y_test, nb_classes)"
   ]
  },
  {
   "cell_type": "code",
   "execution_count": 4,
   "metadata": {
    "collapsed": false
   },
   "outputs": [
    {
     "name": "stdout",
     "output_type": "stream",
     "text": [
      "5\n",
      "[ 0.  0.  0.  0.  0.  1.  0.  0.  0.  0.]\n"
     ]
    }
   ],
   "source": [
    "np.shape(X_train[0]) # 元组中只有一个元素时，要在后面加上一个逗号，所以这里的维度就是[784]\n",
    "print y_train[0]\n",
    "print Y_Train[0] \n",
    "# 这个例子可以看出np_utils.to_categorical()函数就是把类按onehot编码展开"
   ]
  },
  {
   "cell_type": "code",
   "execution_count": 5,
   "metadata": {
    "collapsed": false
   },
   "outputs": [
    {
     "name": "stdout",
     "output_type": "stream",
     "text": [
      "_________________________________________________________________\n",
      "Layer (type)                 Output Shape              Param #   \n",
      "=================================================================\n",
      "dense_1 (Dense)              (None, 10)                7850      \n",
      "=================================================================\n",
      "Total params: 7,850\n",
      "Trainable params: 7,850\n",
      "Non-trainable params: 0\n",
      "_________________________________________________________________\n"
     ]
    },
    {
     "name": "stderr",
     "output_type": "stream",
     "text": [
      "/usr/local/lib/python2.7/dist-packages/ipykernel/__main__.py:3: UserWarning: Update your `Dense` call to the Keras 2 API: `Dense(kernel_initializer=\"normal\", activation=\"softmax\", input_shape=(784,), units=10)`\n",
      "  app.launch_new_instance()\n"
     ]
    }
   ],
   "source": [
    "# Logistic regression model\n",
    "model = Sequential()\n",
    "model.add(Dense(output_dim=10, input_shape=(784,), init='normal', activation='softmax'))\n",
    "model.compile(optimizer=SGD(lr=0.05), loss='categorical_crossentropy', metrics=['accuracy'])\n",
    "model.summary()"
   ]
  },
  {
   "cell_type": "code",
   "execution_count": 6,
   "metadata": {
    "collapsed": false
   },
   "outputs": [
    {
     "name": "stderr",
     "output_type": "stream",
     "text": [
      "/usr/local/lib/python2.7/dist-packages/keras/models.py:837: UserWarning: The `nb_epoch` argument in `fit` has been renamed `epochs`.\n",
      "  warnings.warn('The `nb_epoch` argument in `fit` '\n"
     ]
    },
    {
     "name": "stdout",
     "output_type": "stream",
     "text": [
      "Epoch 1/100\n",
      "1s - loss: 0.7395 - acc: 0.8150\n",
      "Epoch 2/100\n",
      "0s - loss: 0.4358 - acc: 0.8839\n",
      "Epoch 3/100\n",
      "0s - loss: 0.3878 - acc: 0.8940\n",
      "Epoch 4/100\n",
      "0s - loss: 0.3638 - acc: 0.8994\n",
      "Epoch 5/100\n",
      "0s - loss: 0.3483 - acc: 0.9028\n",
      "Epoch 6/100\n",
      "0s - loss: 0.3375 - acc: 0.9061\n",
      "Epoch 7/100\n",
      "0s - loss: 0.3292 - acc: 0.9081\n",
      "Epoch 8/100\n",
      "0s - loss: 0.3227 - acc: 0.9100\n",
      "Epoch 9/100\n",
      "0s - loss: 0.3173 - acc: 0.9115\n",
      "Epoch 10/100\n",
      "0s - loss: 0.3127 - acc: 0.9131\n",
      "Epoch 11/100\n",
      "0s - loss: 0.3088 - acc: 0.9141\n",
      "Epoch 12/100\n",
      "0s - loss: 0.3055 - acc: 0.9154\n",
      "Epoch 13/100\n",
      "0s - loss: 0.3025 - acc: 0.9155\n",
      "Epoch 14/100\n",
      "0s - loss: 0.3000 - acc: 0.9161\n",
      "Epoch 15/100\n",
      "0s - loss: 0.2977 - acc: 0.9171\n",
      "Epoch 16/100\n",
      "0s - loss: 0.2954 - acc: 0.9180\n",
      "Epoch 17/100\n",
      "0s - loss: 0.2935 - acc: 0.9182\n",
      "Epoch 18/100\n",
      "1s - loss: 0.2917 - acc: 0.9186\n",
      "Epoch 19/100\n",
      "1s - loss: 0.2900 - acc: 0.9195\n",
      "Epoch 20/100\n",
      "0s - loss: 0.2885 - acc: 0.9197\n",
      "Epoch 21/100\n",
      "1s - loss: 0.2872 - acc: 0.9200\n",
      "Epoch 22/100\n",
      "0s - loss: 0.2859 - acc: 0.9203\n",
      "Epoch 23/100\n",
      "0s - loss: 0.2846 - acc: 0.9208\n",
      "Epoch 24/100\n",
      "0s - loss: 0.2835 - acc: 0.9213\n",
      "Epoch 25/100\n",
      "1s - loss: 0.2823 - acc: 0.9219\n",
      "Epoch 26/100\n",
      "0s - loss: 0.2814 - acc: 0.9214\n",
      "Epoch 27/100\n",
      "0s - loss: 0.2804 - acc: 0.9217\n",
      "Epoch 28/100\n",
      "0s - loss: 0.2795 - acc: 0.9221\n",
      "Epoch 29/100\n",
      "0s - loss: 0.2786 - acc: 0.9224\n",
      "Epoch 30/100\n",
      "0s - loss: 0.2779 - acc: 0.9225\n",
      "Epoch 31/100\n",
      "0s - loss: 0.2770 - acc: 0.9229\n",
      "Epoch 32/100\n",
      "1s - loss: 0.2762 - acc: 0.9233\n",
      "Epoch 33/100\n",
      "0s - loss: 0.2755 - acc: 0.9232\n",
      "Epoch 34/100\n",
      "0s - loss: 0.2747 - acc: 0.9238\n",
      "Epoch 35/100\n",
      "0s - loss: 0.2741 - acc: 0.9241\n",
      "Epoch 36/100\n",
      "0s - loss: 0.2735 - acc: 0.9240\n",
      "Epoch 37/100\n",
      "0s - loss: 0.2729 - acc: 0.9241\n",
      "Epoch 38/100\n",
      "0s - loss: 0.2722 - acc: 0.9244\n",
      "Epoch 39/100\n",
      "0s - loss: 0.2717 - acc: 0.9247\n",
      "Epoch 40/100\n",
      "0s - loss: 0.2711 - acc: 0.9250\n",
      "Epoch 41/100\n",
      "0s - loss: 0.2706 - acc: 0.9251\n",
      "Epoch 42/100\n",
      "0s - loss: 0.2700 - acc: 0.9250\n",
      "Epoch 43/100\n",
      "0s - loss: 0.2695 - acc: 0.9257\n",
      "Epoch 44/100\n",
      "0s - loss: 0.2691 - acc: 0.9256\n",
      "Epoch 45/100\n",
      "0s - loss: 0.2686 - acc: 0.9257\n",
      "Epoch 46/100\n",
      "0s - loss: 0.2682 - acc: 0.9254\n",
      "Epoch 47/100\n",
      "0s - loss: 0.2678 - acc: 0.9258\n",
      "Epoch 48/100\n",
      "0s - loss: 0.2673 - acc: 0.9259\n",
      "Epoch 49/100\n",
      "1s - loss: 0.2669 - acc: 0.9260\n",
      "Epoch 50/100\n",
      "0s - loss: 0.2664 - acc: 0.9263\n",
      "Epoch 51/100\n",
      "0s - loss: 0.2660 - acc: 0.9267\n",
      "Epoch 52/100\n",
      "0s - loss: 0.2657 - acc: 0.9265\n",
      "Epoch 53/100\n",
      "0s - loss: 0.2653 - acc: 0.9267\n",
      "Epoch 54/100\n",
      "0s - loss: 0.2649 - acc: 0.9269\n",
      "Epoch 55/100\n",
      "1s - loss: 0.2646 - acc: 0.9275\n",
      "Epoch 56/100\n",
      "0s - loss: 0.2642 - acc: 0.9272\n",
      "Epoch 57/100\n",
      "1s - loss: 0.2638 - acc: 0.9274\n",
      "Epoch 58/100\n",
      "0s - loss: 0.2636 - acc: 0.9273\n",
      "Epoch 59/100\n",
      "0s - loss: 0.2632 - acc: 0.9272\n",
      "Epoch 60/100\n",
      "0s - loss: 0.2629 - acc: 0.9277\n",
      "Epoch 61/100\n",
      "0s - loss: 0.2626 - acc: 0.9275\n",
      "Epoch 62/100\n",
      "0s - loss: 0.2624 - acc: 0.9275\n",
      "Epoch 63/100\n",
      "0s - loss: 0.2620 - acc: 0.9275\n",
      "Epoch 64/100\n",
      "1s - loss: 0.2617 - acc: 0.9279\n",
      "Epoch 65/100\n",
      "1s - loss: 0.2614 - acc: 0.9278\n",
      "Epoch 66/100\n",
      "0s - loss: 0.2612 - acc: 0.9275\n",
      "Epoch 67/100\n",
      "0s - loss: 0.2609 - acc: 0.9277\n",
      "Epoch 68/100\n",
      "1s - loss: 0.2606 - acc: 0.9280\n",
      "Epoch 69/100\n",
      "0s - loss: 0.2603 - acc: 0.9281\n",
      "Epoch 70/100\n",
      "0s - loss: 0.2600 - acc: 0.9279\n",
      "Epoch 71/100\n",
      "0s - loss: 0.2599 - acc: 0.9285\n",
      "Epoch 72/100\n",
      "0s - loss: 0.2596 - acc: 0.9286\n",
      "Epoch 73/100\n",
      "0s - loss: 0.2594 - acc: 0.9283\n",
      "Epoch 74/100\n",
      "0s - loss: 0.2591 - acc: 0.9284\n",
      "Epoch 75/100\n",
      "0s - loss: 0.2589 - acc: 0.9288\n",
      "Epoch 76/100\n",
      "0s - loss: 0.2586 - acc: 0.9286\n",
      "Epoch 77/100\n",
      "0s - loss: 0.2584 - acc: 0.9285\n",
      "Epoch 78/100\n",
      "0s - loss: 0.2581 - acc: 0.9288\n",
      "Epoch 79/100\n",
      "0s - loss: 0.2580 - acc: 0.9285\n",
      "Epoch 80/100\n",
      "0s - loss: 0.2577 - acc: 0.9287\n",
      "Epoch 81/100\n",
      "0s - loss: 0.2575 - acc: 0.9290\n",
      "Epoch 82/100\n",
      "0s - loss: 0.2572 - acc: 0.9290\n",
      "Epoch 83/100\n",
      "1s - loss: 0.2571 - acc: 0.9289\n",
      "Epoch 84/100\n",
      "1s - loss: 0.2568 - acc: 0.9292\n",
      "Epoch 85/100\n",
      "0s - loss: 0.2567 - acc: 0.9295\n",
      "Epoch 86/100\n",
      "0s - loss: 0.2565 - acc: 0.9296\n",
      "Epoch 87/100\n",
      "0s - loss: 0.2563 - acc: 0.9294\n",
      "Epoch 88/100\n",
      "1s - loss: 0.2561 - acc: 0.9295\n",
      "Epoch 89/100\n",
      "0s - loss: 0.2559 - acc: 0.9298\n",
      "Epoch 90/100\n",
      "0s - loss: 0.2557 - acc: 0.9294\n",
      "Epoch 91/100\n",
      "0s - loss: 0.2555 - acc: 0.9299\n",
      "Epoch 92/100\n",
      "0s - loss: 0.2553 - acc: 0.9298\n",
      "Epoch 93/100\n",
      "0s - loss: 0.2551 - acc: 0.9297\n",
      "Epoch 94/100\n",
      "0s - loss: 0.2550 - acc: 0.9299\n",
      "Epoch 95/100\n",
      "0s - loss: 0.2547 - acc: 0.9297\n",
      "Epoch 96/100\n",
      "0s - loss: 0.2547 - acc: 0.9299\n",
      "Epoch 97/100\n",
      "0s - loss: 0.2545 - acc: 0.9296\n",
      "Epoch 98/100\n",
      "0s - loss: 0.2543 - acc: 0.9300\n",
      "Epoch 99/100\n",
      "0s - loss: 0.2541 - acc: 0.9300\n",
      "Epoch 100/100\n",
      "0s - loss: 0.2540 - acc: 0.9304\n"
     ]
    }
   ],
   "source": [
    "# Train\n",
    "history = model.fit(X_train, Y_Train, nb_epoch=nb_epoch, batch_size=batch_size, verbose=2)"
   ]
  },
  {
   "cell_type": "code",
   "execution_count": 7,
   "metadata": {
    "collapsed": false
   },
   "outputs": [
    {
     "name": "stdout",
     "output_type": "stream",
     "text": [
      " 9440/10000 [===========================>..] - ETA: 0s\b\b\b\b\b\b\b\b\b\b\b\b\b\b\b\b\b\b\b\b\b\b\b\b\b\b\b\b\b\b\b\b\b\b\b\b\b\b\b\b\b\b\b\b\b\b\b\b\b\b\b\b\b\b\b\b\b\b\b\b\b\b\b\b\b\b\b\b\b\b\b\b\b\b\b\b\b\b\b\b\b\b\b\b\b\b\b\b\b\b\b\b\b\b\b\b\b\b\b\b\b\b\b\b\b\b\b\b\b\b\b\b\b\b\b\b\b\b\b\b\b\b\b\b\b\b\b\b\b\b\b\b\b\b\b\b\b\b\b\b\b\b\b\b\b\b\b\b\b\b\b\b\b\b\b\b\b\b\b\b\b\b\b\b\b\b\b\b\b\b\b\b\b\b\b\b\b\b\b\b\b\b\b\b\b\b\b\b\b\b\b\b\b\b\b\b\b\b\b\b\b\b\b\b\b\b\b\b\b\b\b\b\b\b\b\b\b\b\b\b\b\b\b\b\b\b\b\b\b\b\b\b\b\b\b\b\b\b\b\b\b\b\b\b\b\b\b\b\b\b\b\b\b\b\b\b\b\b\b\b\b\b\b\b\b\b\b\b\b\bSummary: Loss over the test dataset: 0.27, Accuracy: 0.93\n"
     ]
    }
   ],
   "source": [
    "# Evaluate\n",
    "evaluation = model.evaluate(X_test, Y_Test, verbose=1)\n",
    "print('Summary: Loss over the test dataset: %.2f, Accuracy: %.2f' % (evaluation[0], evaluation[1]))"
   ]
  }
 ],
 "metadata": {
  "kernelspec": {
   "display_name": "Python 2",
   "language": "python",
   "name": "python2"
  },
  "language_info": {
   "codemirror_mode": {
    "name": "ipython",
    "version": 2
   },
   "file_extension": ".py",
   "mimetype": "text/x-python",
   "name": "python",
   "nbconvert_exporter": "python",
   "pygments_lexer": "ipython2",
   "version": "2.7.6"
  }
 },
 "nbformat": 4,
 "nbformat_minor": 0
}
