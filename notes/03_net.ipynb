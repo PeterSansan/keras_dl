{
 "cells": [
  {
   "cell_type": "markdown",
   "metadata": {},
   "source": [
    "# 3.多层感知器-手写数字识别"
   ]
  },
  {
   "cell_type": "code",
   "execution_count": 1,
   "metadata": {
    "collapsed": false
   },
   "outputs": [
    {
     "name": "stderr",
     "output_type": "stream",
     "text": [
      "Using TensorFlow backend.\n"
     ]
    }
   ],
   "source": [
    "from keras.models import Sequential\n",
    "from keras.layers import Dense\n",
    "from keras.optimizers import SGD\n",
    "from keras.datasets import mnist\n",
    "from keras.utils import np_utils"
   ]
  },
  {
   "cell_type": "code",
   "execution_count": 2,
   "metadata": {
    "collapsed": true
   },
   "outputs": [],
   "source": [
    "batch_size = 128\n",
    "nb_classes = 10\n",
    "nb_epoch = 100"
   ]
  },
  {
   "cell_type": "code",
   "execution_count": 3,
   "metadata": {
    "collapsed": true
   },
   "outputs": [],
   "source": [
    "# Load MNIST dataset\n",
    "(X_train, y_train), (X_test, y_test) = mnist.load_data()\n",
    "X_train = X_train.reshape(60000, 784)\n",
    "X_test = X_test.reshape(10000, 784)\n",
    "X_train = X_train.astype('float32')\n",
    "X_test = X_test.astype('float32')\n",
    "X_train /= 255\n",
    "X_test /= 255\n",
    "Y_Train = np_utils.to_categorical(y_train, nb_classes)\n",
    "Y_Test = np_utils.to_categorical(y_test, nb_classes)"
   ]
  },
  {
   "cell_type": "code",
   "execution_count": 4,
   "metadata": {
    "collapsed": false
   },
   "outputs": [
    {
     "name": "stdout",
     "output_type": "stream",
     "text": [
      "_________________________________________________________________\n",
      "Layer (type)                 Output Shape              Param #   \n",
      "=================================================================\n",
      "dense_1 (Dense)              (None, 625)               490625    \n",
      "_________________________________________________________________\n",
      "dense_2 (Dense)              (None, 625)               391250    \n",
      "_________________________________________________________________\n",
      "dense_3 (Dense)              (None, 10)                6260      \n",
      "=================================================================\n",
      "Total params: 888,135\n",
      "Trainable params: 888,135\n",
      "Non-trainable params: 0\n",
      "_________________________________________________________________\n"
     ]
    },
    {
     "name": "stderr",
     "output_type": "stream",
     "text": [
      "/usr/local/lib/python2.7/dist-packages/ipykernel/__main__.py:3: UserWarning: Update your `Dense` call to the Keras 2 API: `Dense(kernel_initializer=\"normal\", activation=\"sigmoid\", input_dim=784, units=625)`\n",
      "  app.launch_new_instance()\n",
      "/usr/local/lib/python2.7/dist-packages/ipykernel/__main__.py:4: UserWarning: Update your `Dense` call to the Keras 2 API: `Dense(kernel_initializer=\"normal\", activation=\"sigmoid\", input_dim=625, units=625)`\n",
      "/usr/local/lib/python2.7/dist-packages/ipykernel/__main__.py:5: UserWarning: Update your `Dense` call to the Keras 2 API: `Dense(kernel_initializer=\"normal\", activation=\"softmax\", input_dim=625, units=10)`\n"
     ]
    }
   ],
   "source": [
    "# Multilayer Perceptron model\n",
    "model = Sequential()\n",
    "model.add(Dense(output_dim=625, input_dim=784, init='normal', activation='sigmoid'))\n",
    "model.add(Dense(output_dim=625, input_dim=625, init='normal', activation='sigmoid'))\n",
    "model.add(Dense(output_dim=10, input_dim=625, init='normal', activation='softmax'))\n",
    "model.compile(optimizer=SGD(lr=0.05), loss='categorical_crossentropy', metrics=['accuracy'])\n",
    "model.summary()"
   ]
  },
  {
   "cell_type": "code",
   "execution_count": 5,
   "metadata": {
    "collapsed": false
   },
   "outputs": [
    {
     "name": "stderr",
     "output_type": "stream",
     "text": [
      "/usr/local/lib/python2.7/dist-packages/keras/models.py:837: UserWarning: The `nb_epoch` argument in `fit` has been renamed `epochs`.\n",
      "  warnings.warn('The `nb_epoch` argument in `fit` '\n"
     ]
    },
    {
     "name": "stdout",
     "output_type": "stream",
     "text": [
      "Epoch 1/100\n",
      "2s - loss: 1.9186 - acc: 0.4114\n",
      "Epoch 2/100\n",
      "1s - loss: 0.9340 - acc: 0.7795\n",
      "Epoch 3/100\n",
      "1s - loss: 0.5868 - acc: 0.8485\n",
      "Epoch 4/100\n",
      "1s - loss: 0.4719 - acc: 0.8723\n",
      "Epoch 5/100\n",
      "1s - loss: 0.4177 - acc: 0.8833\n",
      "Epoch 6/100\n",
      "1s - loss: 0.3866 - acc: 0.8907\n",
      "Epoch 7/100\n",
      "1s - loss: 0.3655 - acc: 0.8952\n",
      "Epoch 8/100\n",
      "1s - loss: 0.3506 - acc: 0.8994\n",
      "Epoch 9/100\n",
      "1s - loss: 0.3390 - acc: 0.9022\n",
      "Epoch 10/100\n",
      "1s - loss: 0.3296 - acc: 0.9052\n",
      "Epoch 11/100\n",
      "1s - loss: 0.3218 - acc: 0.9074\n",
      "Epoch 12/100\n",
      "1s - loss: 0.3154 - acc: 0.9096\n",
      "Epoch 13/100\n",
      "1s - loss: 0.3093 - acc: 0.9098\n",
      "Epoch 14/100\n",
      "1s - loss: 0.3044 - acc: 0.9116\n",
      "Epoch 15/100\n",
      "1s - loss: 0.3000 - acc: 0.9130\n",
      "Epoch 16/100\n",
      "1s - loss: 0.2957 - acc: 0.9142\n",
      "Epoch 17/100\n",
      "1s - loss: 0.2919 - acc: 0.9158\n",
      "Epoch 18/100\n",
      "1s - loss: 0.2885 - acc: 0.9165\n",
      "Epoch 19/100\n",
      "1s - loss: 0.2848 - acc: 0.9175\n",
      "Epoch 20/100\n",
      "1s - loss: 0.2823 - acc: 0.9191\n",
      "Epoch 21/100\n",
      "1s - loss: 0.2788 - acc: 0.9191\n",
      "Epoch 22/100\n",
      "1s - loss: 0.2760 - acc: 0.9199\n",
      "Epoch 23/100\n",
      "1s - loss: 0.2736 - acc: 0.9205\n",
      "Epoch 24/100\n",
      "1s - loss: 0.2703 - acc: 0.9217\n",
      "Epoch 25/100\n",
      "1s - loss: 0.2677 - acc: 0.9230\n",
      "Epoch 26/100\n",
      "1s - loss: 0.2650 - acc: 0.9230\n",
      "Epoch 27/100\n",
      "1s - loss: 0.2624 - acc: 0.9236\n",
      "Epoch 28/100\n",
      "1s - loss: 0.2597 - acc: 0.9252\n",
      "Epoch 29/100\n",
      "1s - loss: 0.2570 - acc: 0.9255\n",
      "Epoch 30/100\n",
      "1s - loss: 0.2543 - acc: 0.9265\n",
      "Epoch 31/100\n",
      "1s - loss: 0.2518 - acc: 0.9270\n",
      "Epoch 32/100\n",
      "1s - loss: 0.2491 - acc: 0.9273\n",
      "Epoch 33/100\n",
      "1s - loss: 0.2467 - acc: 0.9289\n",
      "Epoch 34/100\n",
      "1s - loss: 0.2439 - acc: 0.9300\n",
      "Epoch 35/100\n",
      "1s - loss: 0.2411 - acc: 0.9302\n",
      "Epoch 36/100\n",
      "1s - loss: 0.2391 - acc: 0.9316\n",
      "Epoch 37/100\n",
      "1s - loss: 0.2360 - acc: 0.9332\n",
      "Epoch 38/100\n",
      "1s - loss: 0.2329 - acc: 0.9332\n",
      "Epoch 39/100\n",
      "1s - loss: 0.2303 - acc: 0.9344\n",
      "Epoch 40/100\n",
      "1s - loss: 0.2276 - acc: 0.9348\n",
      "Epoch 41/100\n",
      "1s - loss: 0.2248 - acc: 0.9354\n",
      "Epoch 42/100\n",
      "1s - loss: 0.2221 - acc: 0.9366\n",
      "Epoch 43/100\n",
      "1s - loss: 0.2190 - acc: 0.9374\n",
      "Epoch 44/100\n",
      "1s - loss: 0.2162 - acc: 0.9384\n",
      "Epoch 45/100\n",
      "1s - loss: 0.2139 - acc: 0.9393\n",
      "Epoch 46/100\n",
      "1s - loss: 0.2111 - acc: 0.9405\n",
      "Epoch 47/100\n",
      "1s - loss: 0.2083 - acc: 0.9403\n",
      "Epoch 48/100\n",
      "1s - loss: 0.2057 - acc: 0.9411\n",
      "Epoch 49/100\n",
      "1s - loss: 0.2030 - acc: 0.9426\n",
      "Epoch 50/100\n",
      "1s - loss: 0.2006 - acc: 0.9433\n",
      "Epoch 51/100\n",
      "1s - loss: 0.1975 - acc: 0.9439\n",
      "Epoch 52/100\n",
      "1s - loss: 0.1953 - acc: 0.9448\n",
      "Epoch 53/100\n",
      "1s - loss: 0.1927 - acc: 0.9448\n",
      "Epoch 54/100\n",
      "1s - loss: 0.1901 - acc: 0.9460\n",
      "Epoch 55/100\n",
      "1s - loss: 0.1876 - acc: 0.9466\n",
      "Epoch 56/100\n",
      "1s - loss: 0.1851 - acc: 0.9476\n",
      "Epoch 57/100\n",
      "1s - loss: 0.1832 - acc: 0.9477\n",
      "Epoch 58/100\n",
      "1s - loss: 0.1805 - acc: 0.9482\n",
      "Epoch 59/100\n",
      "1s - loss: 0.1781 - acc: 0.9499\n",
      "Epoch 60/100\n",
      "1s - loss: 0.1756 - acc: 0.9503\n",
      "Epoch 61/100\n",
      "1s - loss: 0.1735 - acc: 0.9505\n",
      "Epoch 62/100\n",
      "1s - loss: 0.1713 - acc: 0.9515\n",
      "Epoch 63/100\n",
      "1s - loss: 0.1692 - acc: 0.9519\n",
      "Epoch 64/100\n",
      "1s - loss: 0.1672 - acc: 0.9526\n",
      "Epoch 65/100\n",
      "1s - loss: 0.1651 - acc: 0.9529\n",
      "Epoch 66/100\n",
      "1s - loss: 0.1629 - acc: 0.9539\n",
      "Epoch 67/100\n",
      "1s - loss: 0.1610 - acc: 0.9540\n",
      "Epoch 68/100\n",
      "1s - loss: 0.1588 - acc: 0.9546\n",
      "Epoch 69/100\n",
      "1s - loss: 0.1568 - acc: 0.9554\n",
      "Epoch 70/100\n",
      "1s - loss: 0.1554 - acc: 0.9555\n",
      "Epoch 71/100\n",
      "1s - loss: 0.1532 - acc: 0.9560\n",
      "Epoch 72/100\n",
      "1s - loss: 0.1516 - acc: 0.9567\n",
      "Epoch 73/100\n",
      "1s - loss: 0.1493 - acc: 0.9567\n",
      "Epoch 74/100\n",
      "1s - loss: 0.1478 - acc: 0.9578\n",
      "Epoch 75/100\n",
      "1s - loss: 0.1462 - acc: 0.9582\n",
      "Epoch 76/100\n",
      "1s - loss: 0.1446 - acc: 0.9579\n",
      "Epoch 77/100\n",
      "1s - loss: 0.1424 - acc: 0.9592\n",
      "Epoch 78/100\n",
      "1s - loss: 0.1410 - acc: 0.9592\n",
      "Epoch 79/100\n",
      "1s - loss: 0.1394 - acc: 0.9602\n",
      "Epoch 80/100\n",
      "1s - loss: 0.1378 - acc: 0.9605\n",
      "Epoch 81/100\n",
      "1s - loss: 0.1363 - acc: 0.9606\n",
      "Epoch 82/100\n",
      "1s - loss: 0.1346 - acc: 0.9615\n",
      "Epoch 83/100\n",
      "1s - loss: 0.1332 - acc: 0.9619\n",
      "Epoch 84/100\n",
      "1s - loss: 0.1318 - acc: 0.9620\n",
      "Epoch 85/100\n",
      "1s - loss: 0.1301 - acc: 0.9628\n",
      "Epoch 86/100\n",
      "1s - loss: 0.1285 - acc: 0.9632\n",
      "Epoch 87/100\n",
      "1s - loss: 0.1270 - acc: 0.9638\n",
      "Epoch 88/100\n",
      "1s - loss: 0.1258 - acc: 0.9638\n",
      "Epoch 89/100\n",
      "1s - loss: 0.1246 - acc: 0.9644\n",
      "Epoch 90/100\n",
      "1s - loss: 0.1229 - acc: 0.9647\n",
      "Epoch 91/100\n",
      "1s - loss: 0.1218 - acc: 0.9653\n",
      "Epoch 92/100\n",
      "1s - loss: 0.1203 - acc: 0.9661\n",
      "Epoch 93/100\n",
      "1s - loss: 0.1191 - acc: 0.9663\n",
      "Epoch 94/100\n",
      "1s - loss: 0.1179 - acc: 0.9666\n",
      "Epoch 95/100\n",
      "1s - loss: 0.1164 - acc: 0.9667\n",
      "Epoch 96/100\n",
      "1s - loss: 0.1153 - acc: 0.9676\n",
      "Epoch 97/100\n",
      "1s - loss: 0.1136 - acc: 0.9675\n",
      "Epoch 98/100\n",
      "1s - loss: 0.1128 - acc: 0.9677\n",
      "Epoch 99/100\n",
      "1s - loss: 0.1114 - acc: 0.9686\n",
      "Epoch 100/100\n",
      "1s - loss: 0.1103 - acc: 0.9685\n"
     ]
    }
   ],
   "source": [
    "# Train\n",
    "history = model.fit(X_train, Y_Train, nb_epoch=nb_epoch, batch_size=batch_size, verbose=2)"
   ]
  },
  {
   "cell_type": "code",
   "execution_count": 6,
   "metadata": {
    "collapsed": false
   },
   "outputs": [
    {
     "name": "stdout",
     "output_type": "stream",
     "text": [
      " 8896/10000 [=========================>....] - ETA: 0s\b\b\b\b\b\b\b\b\b\b\b\b\b\b\b\b\b\b\b\b\b\b\b\b\b\b\b\b\b\b\b\b\b\b\b\b\b\b\b\b\b\b\b\b\b\b\b\b\b\b\b\b\b\b\b\b\b\b\b\b\b\b\b\b\b\b\b\b\b\b\b\b\b\b\b\b\b\b\b\b\b\b\b\b\b\b\b\b\b\b\b\b\b\b\b\b\b\b\b\b\b\b\b\b\b\b\b\b\b\b\b\b\b\b\b\b\b\b\b\b\b\b\b\b\b\b\b\b\b\b\b\b\b\b\b\b\b\b\b\b\b\b\b\b\b\b\b\b\b\b\b\b\b\b\b\b\b\b\b\b\b\b\b\b\b\b\b\b\b\b\b\b\b\b\b\b\b\b\b\b\b\b\b\b\b\b\b\b\b\b\b\b\b\b\b\b\b\b\b\b\b\b\b\b\b\b\b\b\b\b\b\b\b\b\b\b\b\b\b\b\b\b\b\b\b\b\b\b\b\b\b\b\b\b\b\b\b\b\b\b\b\b\b\b\b\b\b\b\b\b\b\b\b\b\b\b\b\b\b\b\b\b\b\b\b\b\b\b\b\b\b\b\b\b\b\b\b\b\b\b\b\b\b\b\b\b\b\b\b\b\b\b\b\b\b\b\b\b\b\b\b\b\b\b\b\b\b\b\b\b\b\b\b\b\b\b\b\b\b\b\b\b\b\b\b\b\b\b\b\b\b\b\b\b\b\b\b\b\b\b\b\b\b\b\b\b\b\b\b\b\b\b\b\b\b\b\b\b\b\b\b\b\b\b\b\b\b\b\b\b\b\b\b\b\b\b\b\bSummary: Loss over the test dataset: 0.12, Accuracy: 0.96\n"
     ]
    }
   ],
   "source": [
    "# Evaluate\n",
    "evaluation = model.evaluate(X_test, Y_Test, verbose=1)\n",
    "print('Summary: Loss over the test dataset: %.2f, Accuracy: %.2f' % (evaluation[0], evaluation[1]))"
   ]
  }
 ],
 "metadata": {
  "kernelspec": {
   "display_name": "Python 2",
   "language": "python",
   "name": "python2"
  },
  "language_info": {
   "codemirror_mode": {
    "name": "ipython",
    "version": 2
   },
   "file_extension": ".py",
   "mimetype": "text/x-python",
   "name": "python",
   "nbconvert_exporter": "python",
   "pygments_lexer": "ipython2",
   "version": "2.7.6"
  }
 },
 "nbformat": 4,
 "nbformat_minor": 0
}
