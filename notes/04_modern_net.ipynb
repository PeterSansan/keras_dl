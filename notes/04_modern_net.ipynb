{
 "cells": [
  {
   "cell_type": "markdown",
   "metadata": {},
   "source": [
    "# 4.高级多层感知器-手写数字识别"
   ]
  },
  {
   "cell_type": "code",
   "execution_count": 1,
   "metadata": {
    "collapsed": false
   },
   "outputs": [
    {
     "name": "stderr",
     "output_type": "stream",
     "text": [
      "Using TensorFlow backend.\n"
     ]
    }
   ],
   "source": [
    "from keras.models import Sequential\n",
    "from keras.layers import Dense, Activation, Dropout\n",
    "from keras.optimizers import RMSprop\n",
    "from keras.datasets import mnist\n",
    "from keras.utils import np_utils"
   ]
  },
  {
   "cell_type": "code",
   "execution_count": 2,
   "metadata": {
    "collapsed": true
   },
   "outputs": [],
   "source": [
    "batch_size = 128\n",
    "nb_classes = 10\n",
    "nb_epoch = 30 # 为了显示好看，减少迭代次数"
   ]
  },
  {
   "cell_type": "code",
   "execution_count": 3,
   "metadata": {
    "collapsed": true
   },
   "outputs": [],
   "source": [
    "# Load MNIST dataset\n",
    "(X_train, y_train), (X_test, y_test) = mnist.load_data()\n",
    "X_train = X_train.reshape(60000, 784)\n",
    "X_test = X_test.reshape(10000, 784)\n",
    "X_train = X_train.astype('float32')\n",
    "X_test = X_test.astype('float32')\n",
    "X_train /= 255\n",
    "X_test /= 255\n",
    "Y_train = np_utils.to_categorical(y_train, nb_classes)\n",
    "Y_test = np_utils.to_categorical(y_test, nb_classes)"
   ]
  },
  {
   "cell_type": "code",
   "execution_count": 4,
   "metadata": {
    "collapsed": false
   },
   "outputs": [
    {
     "name": "stdout",
     "output_type": "stream",
     "text": [
      "_________________________________________________________________\n",
      "Layer (type)                 Output Shape              Param #   \n",
      "=================================================================\n",
      "dense_1 (Dense)              (None, 625)               490625    \n",
      "_________________________________________________________________\n",
      "activation_1 (Activation)    (None, 625)               0         \n",
      "_________________________________________________________________\n",
      "dropout_1 (Dropout)          (None, 625)               0         \n",
      "_________________________________________________________________\n",
      "dense_2 (Dense)              (None, 625)               391250    \n",
      "_________________________________________________________________\n",
      "activation_2 (Activation)    (None, 625)               0         \n",
      "_________________________________________________________________\n",
      "dropout_2 (Dropout)          (None, 625)               0         \n",
      "_________________________________________________________________\n",
      "dense_3 (Dense)              (None, 10)                6260      \n",
      "_________________________________________________________________\n",
      "activation_3 (Activation)    (None, 10)                0         \n",
      "=================================================================\n",
      "Total params: 888,135\n",
      "Trainable params: 888,135\n",
      "Non-trainable params: 0\n",
      "_________________________________________________________________\n"
     ]
    }
   ],
   "source": [
    "# Deep Multilayer Perceptron model\n",
    "model = Sequential()\n",
    "model.add(Dense(units=625, input_dim=784, kernel_initializer='normal'))\n",
    "model.add(Activation('relu'))\n",
    "model.add(Dropout(0.2))\n",
    "model.add(Dense(units=625, input_dim=625, kernel_initializer='normal'))\n",
    "model.add(Activation('relu'))\n",
    "model.add(Dropout(0.5))\n",
    "model.add(Dense(units=10, input_dim=625, kernel_initializer='normal'))\n",
    "model.add(Activation('softmax'))\n",
    "\n",
    "model.compile(optimizer=RMSprop(lr=0.001, rho=0.9), loss='categorical_crossentropy', metrics=['accuracy'])\n",
    "model.summary()"
   ]
  },
  {
   "cell_type": "code",
   "execution_count": 5,
   "metadata": {
    "collapsed": false
   },
   "outputs": [
    {
     "name": "stdout",
     "output_type": "stream",
     "text": [
      "Epoch 1/30\n",
      "6s - loss: 0.2657 - acc: 0.9192\n",
      "Epoch 2/30\n",
      "1s - loss: 0.1119 - acc: 0.9665\n",
      "Epoch 3/30\n",
      "1s - loss: 0.0836 - acc: 0.9755\n",
      "Epoch 4/30\n",
      "2s - loss: 0.0669 - acc: 0.9800\n",
      "Epoch 5/30\n",
      "2s - loss: 0.0577 - acc: 0.9836\n",
      "Epoch 6/30\n",
      "2s - loss: 0.0490 - acc: 0.9858\n",
      "Epoch 7/30\n",
      "2s - loss: 0.0456 - acc: 0.9868\n",
      "Epoch 8/30\n",
      "2s - loss: 0.0417 - acc: 0.9890\n",
      "Epoch 9/30\n",
      "2s - loss: 0.0402 - acc: 0.9896\n",
      "Epoch 10/30\n",
      "2s - loss: 0.0394 - acc: 0.9903\n",
      "Epoch 11/30\n",
      "2s - loss: 0.0353 - acc: 0.9905\n",
      "Epoch 12/30\n",
      "2s - loss: 0.0336 - acc: 0.9913\n",
      "Epoch 13/30\n",
      "2s - loss: 0.0361 - acc: 0.9915\n",
      "Epoch 14/30\n",
      "2s - loss: 0.0323 - acc: 0.9922\n",
      "Epoch 15/30\n",
      "2s - loss: 0.0323 - acc: 0.9928\n",
      "Epoch 16/30\n",
      "2s - loss: 0.0293 - acc: 0.9930\n",
      "Epoch 17/30\n",
      "2s - loss: 0.0275 - acc: 0.9932\n",
      "Epoch 18/30\n",
      "2s - loss: 0.0271 - acc: 0.9939\n",
      "Epoch 19/30\n",
      "2s - loss: 0.0275 - acc: 0.9935\n",
      "Epoch 20/30\n",
      "2s - loss: 0.0287 - acc: 0.9938\n",
      "Epoch 21/30\n",
      "2s - loss: 0.0264 - acc: 0.9940\n",
      "Epoch 22/30\n",
      "2s - loss: 0.0260 - acc: 0.9943\n",
      "Epoch 23/30\n",
      "2s - loss: 0.0265 - acc: 0.9942\n",
      "Epoch 24/30\n",
      "2s - loss: 0.0263 - acc: 0.9949\n",
      "Epoch 25/30\n",
      "2s - loss: 0.0261 - acc: 0.9945\n",
      "Epoch 26/30\n",
      "2s - loss: 0.0258 - acc: 0.9948\n",
      "Epoch 27/30\n",
      "2s - loss: 0.0243 - acc: 0.9948\n",
      "Epoch 28/30\n",
      "2s - loss: 0.0265 - acc: 0.9950\n",
      "Epoch 29/30\n",
      "2s - loss: 0.0231 - acc: 0.9956\n",
      "Epoch 30/30\n",
      "2s - loss: 0.0258 - acc: 0.9949\n"
     ]
    }
   ],
   "source": [
    "# Train\n",
    "history = model.fit(X_train, Y_train, epochs=nb_epoch, batch_size=batch_size, verbose=2)"
   ]
  },
  {
   "cell_type": "code",
   "execution_count": 6,
   "metadata": {
    "collapsed": false
   },
   "outputs": [
    {
     "name": "stdout",
     "output_type": "stream",
     "text": [
      "Summary: Loss over the test dataset: 0.15, Accuracy: 0.98\n"
     ]
    }
   ],
   "source": [
    "# Evaluate\n",
    "evaluation = model.evaluate(X_test, Y_test, verbose=2)\n",
    "print('Summary: Loss over the test dataset: %.2f, Accuracy: %.2f' % (evaluation[0], evaluation[1]))"
   ]
  }
 ],
 "metadata": {
  "kernelspec": {
   "display_name": "Python 2",
   "language": "python",
   "name": "python2"
  },
  "language_info": {
   "codemirror_mode": {
    "name": "ipython",
    "version": 2
   },
   "file_extension": ".py",
   "mimetype": "text/x-python",
   "name": "python",
   "nbconvert_exporter": "python",
   "pygments_lexer": "ipython2",
   "version": "2.7.6"
  }
 },
 "nbformat": 4,
 "nbformat_minor": 0
}
