{
 "cells": [
  {
   "cell_type": "markdown",
   "metadata": {},
   "source": [
    "# 7、IMDB LSTM电影评论分类\n",
    "\n",
    "多对一的问题，这里采用的固定输入输出的方法，每一条评论的输入都被切为80个词的长度，不足的补0\n",
    "模型结构只采用一层Embedding+LSTM，这个实验还是不错的，实验结果有些过拟合，有优化的空间。\n"
   ]
  },
  {
   "cell_type": "code",
   "execution_count": 1,
   "metadata": {
    "collapsed": false
   },
   "outputs": [
    {
     "name": "stderr",
     "output_type": "stream",
     "text": [
      "Using TensorFlow backend.\n"
     ]
    }
   ],
   "source": [
    "from __future__ import print_function\n",
    "\n",
    "from keras.preprocessing import sequence\n",
    "from keras.models import Sequential\n",
    "from keras.layers import Dense, Embedding\n",
    "from keras.layers import LSTM\n",
    "from keras.datasets import imdb"
   ]
  },
  {
   "cell_type": "code",
   "execution_count": 2,
   "metadata": {
    "collapsed": false
   },
   "outputs": [
    {
     "name": "stdout",
     "output_type": "stream",
     "text": [
      "Loading data...\n",
      "25000 train sequences\n",
      "25000 test sequences\n",
      "Pad sequences (samples x time)\n",
      "x_train shape: (25000, 80)\n",
      "x_test shape: (25000, 80)\n"
     ]
    }
   ],
   "source": [
    "max_features = 20000\n",
    "maxlen = 80  # cut texts after this number of words (among top max_features most common words)\n",
    "batch_size = 32\n",
    "\n",
    "print('Loading data...')\n",
    "(x_traina, y_train), (x_test, y_test) = imdb.load_data(num_words=max_features)\n",
    "print(len(x_traina), 'train sequences')\n",
    "print(len(x_test), 'test sequences')\n",
    "\n",
    "print('Pad sequences (samples x time)')\n",
    "x_train = sequence.pad_sequences(x_traina, maxlen=maxlen)\n",
    "x_test = sequence.pad_sequences(x_test, maxlen=maxlen)\n",
    "print('x_train shape:', x_train.shape)\n",
    "print('x_test shape:', x_test.shape)"
   ]
  },
  {
   "cell_type": "code",
   "execution_count": 4,
   "metadata": {
    "collapsed": false
   },
   "outputs": [
    {
     "name": "stdout",
     "output_type": "stream",
     "text": [
      "Build model...\n",
      "_________________________________________________________________\n",
      "Layer (type)                 Output Shape              Param #   \n",
      "=================================================================\n",
      "embedding_2 (Embedding)      (None, None, 128)         2560000   \n",
      "_________________________________________________________________\n",
      "lstm_3 (LSTM)                (None, 128)               131584    \n",
      "_________________________________________________________________\n",
      "dense_1 (Dense)              (None, 1)                 129       \n",
      "=================================================================\n",
      "Total params: 2,691,713\n",
      "Trainable params: 2,691,713\n",
      "Non-trainable params: 0\n",
      "_________________________________________________________________\n"
     ]
    }
   ],
   "source": [
    "print('Build model...')\n",
    "model = Sequential()\n",
    "model.add(Embedding(max_features, 128))  # 最多取20000个词，128维输出向量\n",
    "# model.add(LSTM(128, dropout=0.2, recurrent_dropout=0.2))  //原来的\n",
    "model.add(LSTM(128,dropout=0.5))\n",
    "model.add(Dense(1, activation='sigmoid')) # 输出层\n",
    "model.summary()\n",
    "# try using different optimizers and different optimizer configs\n",
    "model.compile(loss='binary_crossentropy',\n",
    "              optimizer='adam',\n",
    "              metrics=['accuracy'])"
   ]
  },
  {
   "cell_type": "code",
   "execution_count": 7,
   "metadata": {
    "collapsed": false
   },
   "outputs": [
    {
     "name": "stdout",
     "output_type": "stream",
     "text": [
      "Train...\n",
      "Train on 25000 samples, validate on 25000 samples\n",
      "Epoch 1/15\n",
      "75s - loss: 0.4438 - acc: 0.7866 - val_loss: 0.3633 - val_acc: 0.8416\n",
      "Epoch 2/15\n",
      "74s - loss: 0.2769 - acc: 0.8864 - val_loss: 0.3942 - val_acc: 0.8385\n",
      "Epoch 3/15\n",
      "75s - loss: 0.1906 - acc: 0.9247 - val_loss: 0.4616 - val_acc: 0.8264\n",
      "Epoch 4/15\n",
      "74s - loss: 0.1343 - acc: 0.9484 - val_loss: 0.4795 - val_acc: 0.8243\n",
      "Epoch 5/15\n",
      "75s - loss: 0.0990 - acc: 0.9635 - val_loss: 0.5398 - val_acc: 0.8221\n",
      "Epoch 6/15\n",
      "75s - loss: 0.0772 - acc: 0.9732 - val_loss: 0.7088 - val_acc: 0.8078\n",
      "Epoch 7/15\n",
      "75s - loss: 0.0607 - acc: 0.9792 - val_loss: 0.6738 - val_acc: 0.8203\n",
      "Epoch 8/15\n",
      "75s - loss: 0.0477 - acc: 0.9842 - val_loss: 0.6749 - val_acc: 0.8193\n",
      "Epoch 9/15\n",
      "75s - loss: 0.0377 - acc: 0.9874 - val_loss: 0.8503 - val_acc: 0.8105\n",
      "Epoch 10/15\n",
      "75s - loss: 0.0358 - acc: 0.9878 - val_loss: 0.8490 - val_acc: 0.8108\n",
      "Epoch 11/15\n",
      "75s - loss: 0.0270 - acc: 0.9910 - val_loss: 0.7412 - val_acc: 0.8140\n",
      "Epoch 12/15\n",
      "75s - loss: 0.0283 - acc: 0.9909 - val_loss: 0.9003 - val_acc: 0.8161\n",
      "Epoch 13/15\n",
      "75s - loss: 0.0210 - acc: 0.9931 - val_loss: 0.8271 - val_acc: 0.8128\n",
      "Epoch 14/15\n",
      "75s - loss: 0.0210 - acc: 0.9935 - val_loss: 0.9031 - val_acc: 0.8178\n",
      "Epoch 15/15\n",
      "74s - loss: 0.0145 - acc: 0.9953 - val_loss: 1.0204 - val_acc: 0.8164\n",
      "Test score: 1.0203760822\n",
      "Test accuracy: 0.81644\n"
     ]
    }
   ],
   "source": [
    "print('Train...')\n",
    "model.fit(x_train, y_train,\n",
    "          batch_size=batch_size,\n",
    "          epochs=15,\n",
    "          validation_data=(x_test, y_test),verbose=2)\n",
    "score, acc = model.evaluate(x_test, y_test,\n",
    "                            batch_size=batch_size,verbose=2)\n",
    "print('Test score:', score)\n",
    "print('Test accuracy:', acc)"
   ]
  }
 ],
 "metadata": {
  "kernelspec": {
   "display_name": "Python 2",
   "language": "python",
   "name": "python2"
  },
  "language_info": {
   "codemirror_mode": {
    "name": "ipython",
    "version": 2
   },
   "file_extension": ".py",
   "mimetype": "text/x-python",
   "name": "python",
   "nbconvert_exporter": "python",
   "pygments_lexer": "ipython2",
   "version": "2.7.6"
  }
 },
 "nbformat": 4,
 "nbformat_minor": 1
}
