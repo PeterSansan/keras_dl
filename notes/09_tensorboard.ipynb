{
 "cells": [
  {
   "cell_type": "markdown",
   "metadata": {},
   "source": [
    "## 9、TensorBoard的使用\n",
    "\n",
    "After Training the model, run\n",
    "```tensorboard --logdir=path/to/log-directory```\n",
    "then enter 0.0.0.0:6006\n",
    "\n",
    "Tensorboard provides a good visualization tool for all the variables you like and works on a browser."
   ]
  },
  {
   "cell_type": "code",
   "execution_count": 1,
   "metadata": {
    "collapsed": false
   },
   "outputs": [
    {
     "name": "stderr",
     "output_type": "stream",
     "text": [
      "Using TensorFlow backend.\n"
     ]
    }
   ],
   "source": [
    "from __future__ import print_function\n",
    "\n",
    "import keras\n",
    "from keras.datasets import mnist\n",
    "from keras.models import Sequential\n",
    "from keras.layers import Dense, Dropout\n",
    "from keras.optimizers import RMSprop\n",
    "from keras.utils import np_utils\n",
    "from keras.callbacks import TensorBoard"
   ]
  },
  {
   "cell_type": "code",
   "execution_count": 2,
   "metadata": {
    "collapsed": false
   },
   "outputs": [
    {
     "name": "stdout",
     "output_type": "stream",
     "text": [
      "60000 train samples\n",
      "10000 test samples\n"
     ]
    }
   ],
   "source": [
    "batch_size = 128\n",
    "num_classes = 10\n",
    "epochs = 20\n",
    "\n",
    "# the data, shuffled and split between train and test sets\n",
    "(x_train, y_train), (x_test, y_test) = mnist.load_data()\n",
    "\n",
    "x_train = x_train.reshape(60000, 784)\n",
    "x_test = x_test.reshape(10000, 784)\n",
    "x_train = x_train.astype('float32')\n",
    "x_test = x_test.astype('float32')\n",
    "x_train /= 255\n",
    "x_test /= 255\n",
    "print(x_train.shape[0], 'train samples')\n",
    "print(x_test.shape[0], 'test samples')\n",
    "\n",
    "# convert class vectors to binary class matrices\n",
    "y_train = keras.utils.to_categorical(y_train, num_classes)\n",
    "y_test = keras.utils.to_categorical(y_test, num_classes)"
   ]
  },
  {
   "cell_type": "code",
   "execution_count": 3,
   "metadata": {
    "collapsed": false
   },
   "outputs": [
    {
     "name": "stdout",
     "output_type": "stream",
     "text": [
      "_________________________________________________________________\n",
      "Layer (type)                 Output Shape              Param #   \n",
      "=================================================================\n",
      "dense_1 (Dense)              (None, 512)               401920    \n",
      "_________________________________________________________________\n",
      "dropout_1 (Dropout)          (None, 512)               0         \n",
      "_________________________________________________________________\n",
      "dense_2 (Dense)              (None, 512)               262656    \n",
      "_________________________________________________________________\n",
      "dropout_2 (Dropout)          (None, 512)               0         \n",
      "_________________________________________________________________\n",
      "dense_3 (Dense)              (None, 10)                5130      \n",
      "=================================================================\n",
      "Total params: 669,706\n",
      "Trainable params: 669,706\n",
      "Non-trainable params: 0\n",
      "_________________________________________________________________\n"
     ]
    }
   ],
   "source": [
    "model = Sequential()\n",
    "model.add(Dense(512, activation='relu', input_shape=(784,)))\n",
    "model.add(Dropout(0.2))\n",
    "model.add(Dense(512, activation='relu'))\n",
    "model.add(Dropout(0.2))\n",
    "model.add(Dense(10, activation='softmax'))\n",
    "\n",
    "model.summary()\n",
    "\n",
    "model.compile(loss='categorical_crossentropy',\n",
    "              optimizer=RMSprop(),\n",
    "              metrics=['accuracy'])"
   ]
  },
  {
   "cell_type": "code",
   "execution_count": 4,
   "metadata": {
    "collapsed": false
   },
   "outputs": [
    {
     "name": "stdout",
     "output_type": "stream",
     "text": [
      "Train on 60000 samples, validate on 10000 samples\n",
      "Epoch 1/20\n",
      "7s - loss: 0.2449 - acc: 0.9242 - val_loss: 0.1138 - val_acc: 0.9642\n",
      "Epoch 2/20\n",
      "7s - loss: 0.1031 - acc: 0.9685 - val_loss: 0.0750 - val_acc: 0.9773\n",
      "Epoch 3/20\n",
      "7s - loss: 0.0740 - acc: 0.9770 - val_loss: 0.0763 - val_acc: 0.9775\n",
      "Epoch 4/20\n",
      "7s - loss: 0.0602 - acc: 0.9818 - val_loss: 0.0773 - val_acc: 0.9782\n",
      "Epoch 5/20\n",
      "7s - loss: 0.0530 - acc: 0.9839 - val_loss: 0.0764 - val_acc: 0.9798\n",
      "Epoch 6/20\n",
      "7s - loss: 0.0433 - acc: 0.9872 - val_loss: 0.0812 - val_acc: 0.9790\n",
      "Epoch 7/20\n",
      "7s - loss: 0.0398 - acc: 0.9883 - val_loss: 0.0852 - val_acc: 0.9806\n",
      "Epoch 8/20\n",
      "7s - loss: 0.0349 - acc: 0.9899 - val_loss: 0.0816 - val_acc: 0.9818\n",
      "Epoch 9/20\n",
      "7s - loss: 0.0326 - acc: 0.9904 - val_loss: 0.0853 - val_acc: 0.9812\n",
      "Epoch 10/20\n",
      "7s - loss: 0.0290 - acc: 0.9913 - val_loss: 0.0872 - val_acc: 0.9833\n",
      "Epoch 11/20\n",
      "7s - loss: 0.0281 - acc: 0.9919 - val_loss: 0.0856 - val_acc: 0.9828\n",
      "Epoch 12/20\n",
      "7s - loss: 0.0243 - acc: 0.9931 - val_loss: 0.0855 - val_acc: 0.9834\n",
      "Epoch 13/20\n",
      "7s - loss: 0.0241 - acc: 0.9933 - val_loss: 0.0908 - val_acc: 0.9831\n",
      "Epoch 14/20\n",
      "7s - loss: 0.0220 - acc: 0.9940 - val_loss: 0.0965 - val_acc: 0.9837\n",
      "Epoch 15/20\n",
      "7s - loss: 0.0219 - acc: 0.9945 - val_loss: 0.0951 - val_acc: 0.9836\n",
      "Epoch 16/20\n",
      "7s - loss: 0.0195 - acc: 0.9950 - val_loss: 0.1059 - val_acc: 0.9839\n",
      "Epoch 17/20\n",
      "7s - loss: 0.0200 - acc: 0.9948 - val_loss: 0.1036 - val_acc: 0.9844\n",
      "Epoch 18/20\n",
      "7s - loss: 0.0199 - acc: 0.9947 - val_loss: 0.1099 - val_acc: 0.9823\n",
      "Epoch 19/20\n",
      "7s - loss: 0.0192 - acc: 0.9948 - val_loss: 0.1216 - val_acc: 0.9833\n",
      "Epoch 20/20\n",
      "7s - loss: 0.0182 - acc: 0.9955 - val_loss: 0.1129 - val_acc: 0.9835\n"
     ]
    }
   ],
   "source": [
    "# Train\n",
    "history = model.fit(x_train, y_train, epochs=epochs, batch_size=batch_size, verbose=2,validation_data=(x_test, y_test),\n",
    "                    callbacks=[TensorBoard(log_dir='/tmp/tensorflow_logs/example', histogram_freq=1)])\n"
   ]
  },
  {
   "cell_type": "markdown",
   "metadata": {},
   "source": [
    "![](http://ogtxggxo6.bkt.clouddn.com/783e.png?imageslim)\n",
    "![](http://ogtxggxo6.bkt.clouddn.com/345t.png?imageslim)"
   ]
  },
  {
   "cell_type": "code",
   "execution_count": 5,
   "metadata": {
    "collapsed": false
   },
   "outputs": [
    {
     "name": "stdout",
     "output_type": "stream",
     "text": [
      "\n",
      "Summary: Loss over the test dataset: 0.11, Accuracy: 0.98\n"
     ]
    }
   ],
   "source": [
    "# Evaluate\n",
    "evaluation = model.evaluate(x_test, y_test, verbose=2)\n",
    "print('\\nSummary: Loss over the test dataset: %.2f, Accuracy: %.2f' % (evaluation[0], evaluation[1]))"
   ]
  }
 ],
 "metadata": {
  "kernelspec": {
   "display_name": "Python 2",
   "language": "python",
   "name": "python2"
  },
  "language_info": {
   "codemirror_mode": {
    "name": "ipython",
    "version": 2
   },
   "file_extension": ".py",
   "mimetype": "text/x-python",
   "name": "python",
   "nbconvert_exporter": "python",
   "pygments_lexer": "ipython2",
   "version": "2.7.6"
  }
 },
 "nbformat": 4,
 "nbformat_minor": 1
}
