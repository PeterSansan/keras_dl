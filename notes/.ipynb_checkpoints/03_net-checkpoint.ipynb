{
 "cells": [
  {
   "cell_type": "markdown",
   "metadata": {},
   "source": [
    "# 3.简单多层感知器-手写数字识别"
   ]
  },
  {
   "cell_type": "code",
   "execution_count": 1,
   "metadata": {
    "collapsed": false
   },
   "outputs": [
    {
     "name": "stderr",
     "output_type": "stream",
     "text": [
      "Using TensorFlow backend.\n"
     ]
    }
   ],
   "source": [
    "from keras.models import Sequential\n",
    "from keras.layers import Dense\n",
    "from keras.optimizers import SGD\n",
    "from keras.datasets import mnist\n",
    "from keras.utils import np_utils"
   ]
  },
  {
   "cell_type": "code",
   "execution_count": 2,
   "metadata": {
    "collapsed": true
   },
   "outputs": [],
   "source": [
    "batch_size = 128\n",
    "nb_classes = 10\n",
    "nb_epoch = 30 # 为了显示好看，减少了迭代次数"
   ]
  },
  {
   "cell_type": "code",
   "execution_count": 3,
   "metadata": {
    "collapsed": true
   },
   "outputs": [],
   "source": [
    "# Load MNIST dataset\n",
    "(X_train, y_train), (X_test, y_test) = mnist.load_data()\n",
    "X_train = X_train.reshape(60000, 784)\n",
    "X_test = X_test.reshape(10000, 784)\n",
    "X_train = X_train.astype('float32')\n",
    "X_test = X_test.astype('float32')\n",
    "X_train /= 255\n",
    "X_test /= 255\n",
    "Y_Train = np_utils.to_categorical(y_train, nb_classes)\n",
    "Y_Test = np_utils.to_categorical(y_test, nb_classes)"
   ]
  },
  {
   "cell_type": "code",
   "execution_count": 4,
   "metadata": {
    "collapsed": false
   },
   "outputs": [
    {
     "name": "stdout",
     "output_type": "stream",
     "text": [
      "_________________________________________________________________\n",
      "Layer (type)                 Output Shape              Param #   \n",
      "=================================================================\n",
      "dense_1 (Dense)              (None, 625)               490625    \n",
      "_________________________________________________________________\n",
      "dense_2 (Dense)              (None, 625)               391250    \n",
      "_________________________________________________________________\n",
      "dense_3 (Dense)              (None, 10)                6260      \n",
      "=================================================================\n",
      "Total params: 888,135\n",
      "Trainable params: 888,135\n",
      "Non-trainable params: 0\n",
      "_________________________________________________________________\n"
     ]
    },
    {
     "name": "stderr",
     "output_type": "stream",
     "text": [
      "/usr/local/lib/python2.7/dist-packages/ipykernel/__main__.py:3: UserWarning: Update your `Dense` call to the Keras 2 API: `Dense(kernel_initializer=\"normal\", activation=\"sigmoid\", input_dim=784, units=625)`\n",
      "  app.launch_new_instance()\n",
      "/usr/local/lib/python2.7/dist-packages/ipykernel/__main__.py:4: UserWarning: Update your `Dense` call to the Keras 2 API: `Dense(kernel_initializer=\"normal\", activation=\"sigmoid\", input_dim=625, units=625)`\n",
      "/usr/local/lib/python2.7/dist-packages/ipykernel/__main__.py:5: UserWarning: Update your `Dense` call to the Keras 2 API: `Dense(kernel_initializer=\"normal\", activation=\"softmax\", input_dim=625, units=10)`\n"
     ]
    }
   ],
   "source": [
    "# Multilayer Perceptron model\n",
    "model = Sequential()\n",
    "model.add(Dense(units=625, input_dim=784, kernel_initializer='normal', activation='sigmoid'))\n",
    "model.add(Dense(units=625, input_dim=625, kernel_initializer='normal', activation='sigmoid'))\n",
    "model.add(Dense(units=10, input_dim=625, kernel_initializer='normal', activation='softmax'))\n",
    "model.compile(optimizer=SGD(lr=0.05), loss='categorical_crossentropy', metrics=['accuracy'])\n",
    "model.summary()"
   ]
  },
  {
   "cell_type": "code",
   "execution_count": 5,
   "metadata": {
    "collapsed": false
   },
   "outputs": [
    {
     "name": "stderr",
     "output_type": "stream",
     "text": [
      "/usr/local/lib/python2.7/dist-packages/keras/models.py:848: UserWarning: The `nb_epoch` argument in `fit` has been renamed `epochs`.\n",
      "  warnings.warn('The `nb_epoch` argument in `fit` '\n"
     ]
    },
    {
     "name": "stdout",
     "output_type": "stream",
     "text": [
      "Epoch 1/30\n",
      "4s - loss: 1.9163 - acc: 0.4154\n",
      "Epoch 2/30\n",
      "1s - loss: 0.9312 - acc: 0.7834\n",
      "Epoch 3/30\n",
      "1s - loss: 0.5820 - acc: 0.8507\n",
      "Epoch 4/30\n",
      "1s - loss: 0.4689 - acc: 0.8729\n",
      "Epoch 5/30\n",
      "1s - loss: 0.4148 - acc: 0.8847\n",
      "Epoch 6/30\n",
      "1s - loss: 0.3844 - acc: 0.8912\n",
      "Epoch 7/30\n",
      "1s - loss: 0.3638 - acc: 0.8968\n",
      "Epoch 8/30\n",
      "1s - loss: 0.3491 - acc: 0.8998\n",
      "Epoch 9/30\n",
      "1s - loss: 0.3378 - acc: 0.9028\n",
      "Epoch 10/30\n",
      "1s - loss: 0.3286 - acc: 0.9051\n",
      "Epoch 11/30\n",
      "1s - loss: 0.3207 - acc: 0.9082\n",
      "Epoch 12/30\n",
      "1s - loss: 0.3143 - acc: 0.9086\n",
      "Epoch 13/30\n",
      "1s - loss: 0.3094 - acc: 0.9100\n",
      "Epoch 14/30\n",
      "1s - loss: 0.3037 - acc: 0.9122\n",
      "Epoch 15/30\n",
      "1s - loss: 0.2999 - acc: 0.9132\n",
      "Epoch 16/30\n",
      "1s - loss: 0.2954 - acc: 0.9141\n",
      "Epoch 17/30\n",
      "1s - loss: 0.2919 - acc: 0.9147\n",
      "Epoch 18/30\n",
      "1s - loss: 0.2880 - acc: 0.9163\n",
      "Epoch 19/30\n",
      "1s - loss: 0.2849 - acc: 0.9180\n",
      "Epoch 20/30\n",
      "1s - loss: 0.2814 - acc: 0.9184\n",
      "Epoch 21/30\n",
      "1s - loss: 0.2787 - acc: 0.9193\n",
      "Epoch 22/30\n",
      "1s - loss: 0.2757 - acc: 0.9195\n",
      "Epoch 23/30\n",
      "1s - loss: 0.2731 - acc: 0.9210\n",
      "Epoch 24/30\n",
      "1s - loss: 0.2701 - acc: 0.9217\n",
      "Epoch 25/30\n",
      "1s - loss: 0.2672 - acc: 0.9226\n",
      "Epoch 26/30\n",
      "1s - loss: 0.2644 - acc: 0.9237\n",
      "Epoch 27/30\n",
      "1s - loss: 0.2621 - acc: 0.9239\n",
      "Epoch 28/30\n",
      "1s - loss: 0.2589 - acc: 0.9244\n",
      "Epoch 29/30\n",
      "1s - loss: 0.2568 - acc: 0.9260\n",
      "Epoch 30/30\n",
      "1s - loss: 0.2540 - acc: 0.9258\n"
     ]
    }
   ],
   "source": [
    "# Train\n",
    "history = model.fit(X_train, Y_Train, epochs=nb_epoch, batch_size=batch_size, verbose=2)"
   ]
  },
  {
   "cell_type": "code",
   "execution_count": 6,
   "metadata": {
    "collapsed": false
   },
   "outputs": [
    {
     "name": "stdout",
     "output_type": "stream",
     "text": [
      "Summary: Loss over the test dataset: 0.25, Accuracy: 0.93\n"
     ]
    }
   ],
   "source": [
    "# Evaluate\n",
    "evaluation = model.evaluate(X_test, Y_Test, verbose=2)\n",
    "print('Summary: Loss over the test dataset: %.2f, Accuracy: %.2f' % (evaluation[0], evaluation[1]))"
   ]
  }
 ],
 "metadata": {
  "kernelspec": {
   "display_name": "Python 2",
   "language": "python",
   "name": "python2"
  },
  "language_info": {
   "codemirror_mode": {
    "name": "ipython",
    "version": 2
   },
   "file_extension": ".py",
   "mimetype": "text/x-python",
   "name": "python",
   "nbconvert_exporter": "python",
   "pygments_lexer": "ipython2",
   "version": "2.7.6"
  }
 },
 "nbformat": 4,
 "nbformat_minor": 0
}
