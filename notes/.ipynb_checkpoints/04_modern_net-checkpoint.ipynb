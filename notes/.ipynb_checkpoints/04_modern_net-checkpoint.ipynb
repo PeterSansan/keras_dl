{
 "cells": [
  {
   "cell_type": "markdown",
   "metadata": {},
   "source": [
    "# 4.高级多层感知器-手写数字识别"
   ]
  },
  {
   "cell_type": "code",
   "execution_count": 1,
   "metadata": {
    "collapsed": false
   },
   "outputs": [
    {
     "name": "stderr",
     "output_type": "stream",
     "text": [
      "Using TensorFlow backend.\n"
     ]
    }
   ],
   "source": [
    "from keras.models import Sequential\n",
    "from keras.layers import Dense, Activation, Dropout\n",
    "from keras.optimizers import RMSprop\n",
    "from keras.datasets import mnist\n",
    "from keras.utils import np_utils"
   ]
  },
  {
   "cell_type": "code",
   "execution_count": 2,
   "metadata": {
    "collapsed": true
   },
   "outputs": [],
   "source": [
    "batch_size = 128\n",
    "nb_classes = 10\n",
    "nb_epoch = 30 # 为了显示好看，减少迭代次数"
   ]
  },
  {
   "cell_type": "code",
   "execution_count": 3,
   "metadata": {
    "collapsed": true
   },
   "outputs": [],
   "source": [
    "# Load MNIST dataset\n",
    "(X_train, y_train), (X_test, y_test) = mnist.load_data()\n",
    "X_train = X_train.reshape(60000, 784)\n",
    "X_test = X_test.reshape(10000, 784)\n",
    "X_train = X_train.astype('float32')\n",
    "X_test = X_test.astype('float32')\n",
    "X_train /= 255\n",
    "X_test /= 255\n",
    "Y_train = np_utils.to_categorical(y_train, nb_classes)\n",
    "Y_test = np_utils.to_categorical(y_test, nb_classes)"
   ]
  },
  {
   "cell_type": "code",
   "execution_count": 4,
   "metadata": {
    "collapsed": false
   },
   "outputs": [
    {
     "name": "stdout",
     "output_type": "stream",
     "text": [
      "_________________________________________________________________\n",
      "Layer (type)                 Output Shape              Param #   \n",
      "=================================================================\n",
      "dense_1 (Dense)              (None, 625)               490625    \n",
      "_________________________________________________________________\n",
      "activation_1 (Activation)    (None, 625)               0         \n",
      "_________________________________________________________________\n",
      "dropout_1 (Dropout)          (None, 625)               0         \n",
      "_________________________________________________________________\n",
      "dense_2 (Dense)              (None, 625)               391250    \n",
      "_________________________________________________________________\n",
      "activation_2 (Activation)    (None, 625)               0         \n",
      "_________________________________________________________________\n",
      "dropout_2 (Dropout)          (None, 625)               0         \n",
      "_________________________________________________________________\n",
      "dense_3 (Dense)              (None, 10)                6260      \n",
      "_________________________________________________________________\n",
      "activation_3 (Activation)    (None, 10)                0         \n",
      "=================================================================\n",
      "Total params: 888,135\n",
      "Trainable params: 888,135\n",
      "Non-trainable params: 0\n",
      "_________________________________________________________________\n"
     ]
    },
    {
     "name": "stderr",
     "output_type": "stream",
     "text": [
      "/usr/local/lib/python2.7/dist-packages/ipykernel/__main__.py:3: UserWarning: Update your `Dense` call to the Keras 2 API: `Dense(units=625, kernel_initializer=\"normal\", input_dim=784)`\n",
      "  app.launch_new_instance()\n",
      "/usr/local/lib/python2.7/dist-packages/ipykernel/__main__.py:6: UserWarning: Update your `Dense` call to the Keras 2 API: `Dense(units=625, kernel_initializer=\"normal\", input_dim=625)`\n",
      "/usr/local/lib/python2.7/dist-packages/ipykernel/__main__.py:9: UserWarning: Update your `Dense` call to the Keras 2 API: `Dense(units=10, kernel_initializer=\"normal\", input_dim=625)`\n"
     ]
    }
   ],
   "source": [
    "# Deep Multilayer Perceptron model\n",
    "model = Sequential()\n",
    "model.add(Dense(units=625, input_dim=784, kernel_initializer='normal'))\n",
    "model.add(Activation('relu'))\n",
    "model.add(Dropout(0.2))\n",
    "model.add(Dense(units=625, input_dim=625, kernel_initializer='normal'))\n",
    "model.add(Activation('relu'))\n",
    "model.add(Dropout(0.5))\n",
    "model.add(Dense(units=10, input_dim=625, kernel_initializer='normal'))\n",
    "model.add(Activation('softmax'))\n",
    "\n",
    "model.compile(optimizer=RMSprop(lr=0.001, rho=0.9), loss='categorical_crossentropy', metrics=['accuracy'])\n",
    "model.summary()"
   ]
  },
  {
   "cell_type": "code",
   "execution_count": 5,
   "metadata": {
    "collapsed": false
   },
   "outputs": [
    {
     "name": "stderr",
     "output_type": "stream",
     "text": [
      "/usr/local/lib/python2.7/dist-packages/keras/models.py:837: UserWarning: The `nb_epoch` argument in `fit` has been renamed `epochs`.\n",
      "  warnings.warn('The `nb_epoch` argument in `fit` '\n"
     ]
    },
    {
     "name": "stdout",
     "output_type": "stream",
     "text": [
      "Epoch 1/100\n",
      "2s - loss: 0.2664 - acc: 0.9180\n",
      "Epoch 2/100\n",
      "2s - loss: 0.1117 - acc: 0.9669\n",
      "Epoch 3/100\n",
      "2s - loss: 0.0821 - acc: 0.9757\n",
      "Epoch 4/100\n",
      "2s - loss: 0.0684 - acc: 0.9797\n",
      "Epoch 5/100\n",
      "2s - loss: 0.0579 - acc: 0.9838\n",
      "Epoch 6/100\n",
      "2s - loss: 0.0526 - acc: 0.9852\n",
      "Epoch 7/100\n",
      "2s - loss: 0.0452 - acc: 0.9876\n",
      "Epoch 8/100\n",
      "2s - loss: 0.0434 - acc: 0.9879\n",
      "Epoch 9/100\n",
      "2s - loss: 0.0376 - acc: 0.9896\n",
      "Epoch 10/100\n",
      "2s - loss: 0.0360 - acc: 0.9905\n",
      "Epoch 11/100\n",
      "2s - loss: 0.0340 - acc: 0.9913\n",
      "Epoch 12/100\n",
      "2s - loss: 0.0333 - acc: 0.9919\n",
      "Epoch 13/100\n",
      "2s - loss: 0.0319 - acc: 0.9918\n",
      "Epoch 14/100\n",
      "2s - loss: 0.0305 - acc: 0.9925\n",
      "Epoch 15/100\n",
      "2s - loss: 0.0289 - acc: 0.9929\n",
      "Epoch 16/100\n",
      "2s - loss: 0.0255 - acc: 0.9936\n",
      "Epoch 17/100\n",
      "2s - loss: 0.0260 - acc: 0.9935\n",
      "Epoch 18/100\n",
      "2s - loss: 0.0270 - acc: 0.9937\n",
      "Epoch 19/100\n",
      "2s - loss: 0.0233 - acc: 0.9949\n",
      "Epoch 20/100\n",
      "2s - loss: 0.0246 - acc: 0.9944\n",
      "Epoch 21/100\n",
      "2s - loss: 0.0273 - acc: 0.9941\n",
      "Epoch 22/100\n",
      "2s - loss: 0.0255 - acc: 0.9944\n",
      "Epoch 23/100\n",
      "2s - loss: 0.0242 - acc: 0.9948\n",
      "Epoch 24/100\n",
      "2s - loss: 0.0252 - acc: 0.9948\n",
      "Epoch 25/100\n",
      "2s - loss: 0.0211 - acc: 0.9951\n",
      "Epoch 26/100\n",
      "2s - loss: 0.0203 - acc: 0.9957\n",
      "Epoch 27/100\n",
      "2s - loss: 0.0228 - acc: 0.9956\n",
      "Epoch 28/100\n",
      "2s - loss: 0.0232 - acc: 0.9952\n",
      "Epoch 29/100\n",
      "2s - loss: 0.0236 - acc: 0.9955\n",
      "Epoch 30/100\n",
      "2s - loss: 0.0218 - acc: 0.9954\n",
      "Epoch 31/100\n",
      "2s - loss: 0.0244 - acc: 0.9955\n",
      "Epoch 32/100\n",
      "2s - loss: 0.0214 - acc: 0.9957\n",
      "Epoch 33/100\n",
      "2s - loss: 0.0213 - acc: 0.9958\n",
      "Epoch 34/100\n",
      "2s - loss: 0.0197 - acc: 0.9959\n",
      "Epoch 35/100\n",
      "2s - loss: 0.0227 - acc: 0.9960\n",
      "Epoch 36/100\n",
      "2s - loss: 0.0220 - acc: 0.9957\n",
      "Epoch 37/100\n",
      "2s - loss: 0.0219 - acc: 0.9957\n",
      "Epoch 38/100\n",
      "2s - loss: 0.0196 - acc: 0.9960\n",
      "Epoch 39/100\n",
      "2s - loss: 0.0217 - acc: 0.9961\n",
      "Epoch 40/100\n",
      "2s - loss: 0.0210 - acc: 0.9960\n",
      "Epoch 41/100\n",
      "2s - loss: 0.0214 - acc: 0.9964\n",
      "Epoch 42/100\n",
      "2s - loss: 0.0211 - acc: 0.9961\n",
      "Epoch 43/100\n",
      "2s - loss: 0.0238 - acc: 0.9961\n",
      "Epoch 44/100\n",
      "2s - loss: 0.0236 - acc: 0.9959\n",
      "Epoch 45/100\n",
      "2s - loss: 0.0217 - acc: 0.9963\n",
      "Epoch 46/100\n",
      "2s - loss: 0.0199 - acc: 0.9967\n",
      "Epoch 47/100\n",
      "2s - loss: 0.0254 - acc: 0.9960\n",
      "Epoch 48/100\n",
      "2s - loss: 0.0202 - acc: 0.9966\n",
      "Epoch 49/100\n",
      "2s - loss: 0.0216 - acc: 0.9963\n",
      "Epoch 50/100\n",
      "2s - loss: 0.0204 - acc: 0.9966\n",
      "Epoch 51/100\n",
      "2s - loss: 0.0208 - acc: 0.9965\n",
      "Epoch 52/100\n",
      "2s - loss: 0.0208 - acc: 0.9967\n",
      "Epoch 53/100\n",
      "2s - loss: 0.0190 - acc: 0.9968\n",
      "Epoch 54/100\n",
      "2s - loss: 0.0225 - acc: 0.9966\n",
      "Epoch 55/100\n",
      "2s - loss: 0.0194 - acc: 0.9966\n",
      "Epoch 56/100\n",
      "2s - loss: 0.0196 - acc: 0.9965\n",
      "Epoch 57/100\n",
      "2s - loss: 0.0201 - acc: 0.9969\n",
      "Epoch 58/100\n",
      "2s - loss: 0.0203 - acc: 0.9967\n",
      "Epoch 59/100\n",
      "2s - loss: 0.0196 - acc: 0.9968\n",
      "Epoch 60/100\n",
      "2s - loss: 0.0216 - acc: 0.9967\n",
      "Epoch 61/100\n",
      "2s - loss: 0.0221 - acc: 0.9963\n",
      "Epoch 62/100\n",
      "2s - loss: 0.0191 - acc: 0.9970\n",
      "Epoch 63/100\n",
      "2s - loss: 0.0256 - acc: 0.9963\n",
      "Epoch 64/100\n",
      "2s - loss: 0.0199 - acc: 0.9970\n",
      "Epoch 65/100\n",
      "2s - loss: 0.0219 - acc: 0.9968\n",
      "Epoch 66/100\n",
      "2s - loss: 0.0254 - acc: 0.9966\n",
      "Epoch 67/100\n",
      "2s - loss: 0.0203 - acc: 0.9969\n",
      "Epoch 68/100\n",
      "2s - loss: 0.0200 - acc: 0.9972\n",
      "Epoch 69/100\n",
      "2s - loss: 0.0220 - acc: 0.9966\n",
      "Epoch 70/100\n",
      "2s - loss: 0.0215 - acc: 0.9970\n",
      "Epoch 71/100\n",
      "2s - loss: 0.0232 - acc: 0.9968\n",
      "Epoch 72/100\n",
      "2s - loss: 0.0218 - acc: 0.9965\n",
      "Epoch 73/100\n",
      "2s - loss: 0.0198 - acc: 0.9968\n",
      "Epoch 74/100\n",
      "2s - loss: 0.0224 - acc: 0.9970\n",
      "Epoch 75/100\n",
      "2s - loss: 0.0232 - acc: 0.9968\n",
      "Epoch 76/100\n",
      "2s - loss: 0.0220 - acc: 0.9975\n",
      "Epoch 77/100\n",
      "2s - loss: 0.0212 - acc: 0.9965\n",
      "Epoch 78/100\n",
      "2s - loss: 0.0204 - acc: 0.9971\n",
      "Epoch 79/100\n",
      "2s - loss: 0.0226 - acc: 0.9965\n",
      "Epoch 80/100\n",
      "2s - loss: 0.0218 - acc: 0.9971\n",
      "Epoch 81/100\n",
      "2s - loss: 0.0209 - acc: 0.9972\n",
      "Epoch 82/100\n",
      "2s - loss: 0.0222 - acc: 0.9969\n",
      "Epoch 83/100\n",
      "2s - loss: 0.0204 - acc: 0.9970\n",
      "Epoch 84/100\n",
      "2s - loss: 0.0178 - acc: 0.9972\n",
      "Epoch 85/100\n",
      "2s - loss: 0.0211 - acc: 0.9970\n",
      "Epoch 86/100\n",
      "2s - loss: 0.0184 - acc: 0.9975\n",
      "Epoch 87/100\n",
      "2s - loss: 0.0219 - acc: 0.9973\n",
      "Epoch 88/100\n",
      "2s - loss: 0.0213 - acc: 0.9973\n",
      "Epoch 89/100\n",
      "2s - loss: 0.0183 - acc: 0.9975\n",
      "Epoch 90/100\n",
      "2s - loss: 0.0270 - acc: 0.9966\n",
      "Epoch 91/100\n",
      "2s - loss: 0.0169 - acc: 0.9973\n",
      "Epoch 92/100\n",
      "2s - loss: 0.0233 - acc: 0.9970\n",
      "Epoch 93/100\n",
      "2s - loss: 0.0212 - acc: 0.9973\n",
      "Epoch 94/100\n",
      "2s - loss: 0.0207 - acc: 0.9974\n",
      "Epoch 95/100\n",
      "2s - loss: 0.0200 - acc: 0.9972\n",
      "Epoch 96/100\n",
      "2s - loss: 0.0204 - acc: 0.9975\n",
      "Epoch 97/100\n",
      "2s - loss: 0.0188 - acc: 0.9975\n",
      "Epoch 98/100\n",
      "2s - loss: 0.0205 - acc: 0.9971\n",
      "Epoch 99/100\n",
      "2s - loss: 0.0224 - acc: 0.9972\n",
      "Epoch 100/100\n",
      "2s - loss: 0.0210 - acc: 0.9973\n"
     ]
    }
   ],
   "source": [
    "# Train\n",
    "history = model.fit(X_train, Y_train, epochs=nb_epoch, batch_size=batch_size, verbose=2)"
   ]
  },
  {
   "cell_type": "code",
   "execution_count": 6,
   "metadata": {
    "collapsed": false
   },
   "outputs": [
    {
     "name": "stdout",
     "output_type": "stream",
     "text": [
      " 9088/10000 [==========================>...] - ETA: 0s\b\b\b\b\b\b\b\b\b\b\b\b\b\b\b\b\b\b\b\b\b\b\b\b\b\b\b\b\b\b\b\b\b\b\b\b\b\b\b\b\b\b\b\b\b\b\b\b\b\b\b\b\b\b\b\b\b\b\b\b\b\b\b\b\b\b\b\b\b\b\b\b\b\b\b\b\b\b\b\b\b\b\b\b\b\b\b\b\b\b\b\b\b\b\b\b\b\b\b\b\b\b\b\b\b\b\b\b\b\b\b\b\b\b\b\b\b\b\b\b\b\b\b\b\b\b\b\b\b\b\b\b\b\b\b\b\b\b\b\b\b\b\b\b\b\b\b\b\b\b\b\b\b\b\b\b\b\b\b\b\b\b\b\b\b\b\b\b\b\b\b\b\b\b\b\b\b\b\b\b\b\b\b\b\b\b\b\b\b\b\b\b\b\b\b\b\b\b\b\b\b\b\b\b\b\b\b\b\b\b\b\b\b\b\b\b\b\b\b\b\b\b\b\b\b\b\b\b\b\b\b\b\b\b\b\b\b\b\b\b\b\b\b\b\b\b\b\b\b\b\b\b\b\b\b\b\b\b\b\b\b\b\b\b\b\b\b\b\b\b\b\b\b\b\b\b\b\b\b\b\b\b\b\b\b\b\b\b\b\b\b\b\b\b\b\b\b\b\b\b\b\b\b\b\b\b\b\b\b\b\b\b\b\b\b\b\b\b\b\b\b\b\b\b\b\b\b\b\b\b\b\b\b\b\b\b\b\b\b\b\b\b\b\b\b\b\b\b\b\b\b\b\b\b\b\b\b\b\b\b\b\b\b\b\b\b\b\b\b\b\b\b\b\b\b\b\b\bSummary: Loss over the test dataset: 0.20, Accuracy: 0.98\n"
     ]
    }
   ],
   "source": [
    "# Evaluate\n",
    "evaluation = model.evaluate(X_test, Y_test, verbose=2)\n",
    "print('Summary: Loss over the test dataset: %.2f, Accuracy: %.2f' % (evaluation[0], evaluation[1]))"
   ]
  }
 ],
 "metadata": {
  "kernelspec": {
   "display_name": "Python 2",
   "language": "python",
   "name": "python2"
  },
  "language_info": {
   "codemirror_mode": {
    "name": "ipython",
    "version": 2
   },
   "file_extension": ".py",
   "mimetype": "text/x-python",
   "name": "python",
   "nbconvert_exporter": "python",
   "pygments_lexer": "ipython2",
   "version": "2.7.6"
  }
 },
 "nbformat": 4,
 "nbformat_minor": 0
}
