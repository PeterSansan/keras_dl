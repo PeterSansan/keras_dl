{
 "cells": [
  {
   "cell_type": "markdown",
   "metadata": {},
   "source": [
    "# 6、自编码器-MNIST\n",
    "中文原文：[自动编码器：各种各样的自动编码器](http://keras-cn.readthedocs.io/en/latest/blog/autoencoder/)<br/>\n",
    "英文原文：[Building Autoencoders in Keras](https://blog.keras.io/building-autoencoders-in-keras.html)<br/>\n",
    "参考资料：[自编码(Autoencoder)](https://wenku.baidu.com/view/09b5ee2f524de518974b7d38.html)"
   ]
  },
  {
   "cell_type": "markdown",
   "metadata": {},
   "source": [
    "## 0、编码器介绍\n",
    "![](http://ogtxggxo6.bkt.clouddn.com/autoencoder_schema.jpg?imageslim)\n",
    "自动编码器是一种数据的压缩算法，其中数据的压缩和解压缩函数是1）数据相关的,2）有损的，3）从样本中自动学习的。在大部分提到自动编码器的场合，压缩和解压缩的函数是通过神经网络实现的。\n",
    "\n",
    "1）自动编码器是数据相关的（data-specific 或 data-dependent），这意味着自动编码器只能压缩那些与训练数据类似的数据。自编码器与一般的压缩算法，如MPEG-2，MP3等压缩算法不同，一般的通用算法只假设了数据是“图像”或“声音”，而没有指定是哪种图像或声音。比如，使用人脸训练出来的自动编码器在压缩别的图片，比如树木时性能很差，因为它学习到的特征是与人脸相关的。\n",
    "\n",
    "2）自动编码器是有损的，意思是解压缩的输出与原来的输入相比是退化的，MP3，JPEG等压缩算法也是如此。这与无损压缩算法不同。\n",
    "\n",
    "3）自动编码器是从数据样本中自动学习的，这意味着很容易对指定类的输入训练出一种特定的编码器，而不需要完成任何新工作。\n",
    "\n",
    "搭建一个自动编码器需要完成下面三样工作：搭建编码器，搭建解码器，设定一个损失函数，用以衡量由于压缩而损失掉的信息。编码器和解码器一般都是参数化的方程，并关于损失函数可导，典型情况是使用神经网络。编码器和解码器的参数可以通过最小化损失函数而优化，例如SGD。"
   ]
  },
  {
   "cell_type": "markdown",
   "metadata": {},
   "source": [
    "### 自编码器是一个好的数据压缩算法吗\n",
    "\n",
    "通常情况下，使用自编码器做数据压缩，性能并不怎么样。以图片压缩为例，想要训练一个能和JPEG性能相提并论的自编码器非常困难，并且要达到这个性能，你还必须要把图片的类型限定在很小的一个范围内（例如JPEG不怎么行的某类图片）。自编码器依赖于数据的特性使得它在面对真实数据的压缩上并不可行，你只能在指定类型的数据上获得还可以的效果，但谁知道未来会有啥新需求？\n",
    "\n",
    "那么，自编码器擅长做什么？\n",
    "\n",
    "自编码器在实际应用中用的很少，2012年人们发现在卷积神经网络中使用自编码器做逐层预训练可以训练深度网络，但很快人们发现良好的初始化策略在训练深度网络上要比费劲的逐层预训练有效得多，2014年出现的Batch Normalization技术使得更深的网络也可以被有效训练，到了2015年底，通过使用残差学习（ResNet）我们基本上可以训练任意深度的神经网络。\n",
    "\n",
    "目前自编码器的应用主要有两个方面，第一是数据去噪，第二是为进行可视化而降维。配合适当的维度和稀疏约束，自编码器可以学习到比PCA等技术更有意思的数据投影。\n",
    "\n",
    "对于2D的数据可视化，[t-SNE](https://en.wikipedia.org/wiki/T-distributed_stochastic_neighbor_embedding)（读作tee-snee）或许是目前最好的算法，但通常还是需要原数据的维度相对低一些。所以，可视化高维数据的一个好办法是首先使用自编码器将维度降低到较低的水平（如32维），然后再使用t-SNE将其投影在2D平面上。Keras版本的t-SNE由Kyle McDonald实现了一下，放在了[这里](https://github.com/kylemcdonald/Parametric-t-SNE/blob/master/Parametric%20t-SNE%20(Keras).ipynb)，另外[scikit-learn](http://scikit-learn.org/stable/modules/generated/sklearn.manifold.TSNE.html)也有一个简单实用的实现。"
   ]
  },
  {
   "cell_type": "markdown",
   "metadata": {},
   "source": [
    "### 自编码器有什么卵用\n",
    "\n",
    "自编码器的出名来自于网上很多机器学习课程的介绍，总而言之，一堆新手非常热爱自编码器而且怎么也玩不够，这就是这篇文章出现的意义【告诉你自编码器有什么卵用】。\n",
    "\n",
    "自编码器吸引了一大批研究和关注的主要原因之一是很长时间一段以来它被认为是解决无监督学习的可能方案，即大家觉得自编码器可以在没有标签的时候学习到数据的有用表达。再说一次，自编码器并不是一个真正的无监督学习的算法，而是一个自监督的算法。自监督学习是监督学习的一个实例，其标签产生自输入数据。要获得一个自监督的模型，你需要想出一个靠谱的目标跟一个损失函数，问题来了，仅仅把目标设定为重构输入可能不是正确的选项。基本上，要求模型在像素级上精确重构输入不是机器学习的兴趣所在，学习到高级的抽象特征才是。事实上，当你的主要任务是分类、定位之类的任务时，那些对这类任务而言的最好的特征基本上都是重构输入时的最差的那种特征。\n",
    "\n",
    "在应用自监督学习的视觉问题中，可能应用自编码器的领域有例如拼图，细节纹理匹配（从低分辨率的图像块中匹配其高分辨率的对应块）。下面这篇文章研究了拼图问题，其实很有意思，不妨一读。[Unsupervised Learning of Visual Representations by Solving Jigsaw Puzzles](http://arxiv.org/abs/1603.09246).。此类问题的模型输入有些内置的假设，例如“视觉块比像素级的细节更重要”这样的，这种假设是普通的自编码器没有的\n",
    "![](http://ogtxggxo6.bkt.clouddn.com/jigsaw-puzzle.png)"
   ]
  },
  {
   "cell_type": "markdown",
   "metadata": {},
   "source": [
    "## 1.使用Keras建立简单的自编码器\n",
    "首先，先建立一个全连接的编码器和解码器"
   ]
  },
  {
   "cell_type": "code",
   "execution_count": 1,
   "metadata": {
    "collapsed": false
   },
   "outputs": [
    {
     "name": "stderr",
     "output_type": "stream",
     "text": [
      "Using TensorFlow backend.\n"
     ]
    },
    {
     "name": "stdout",
     "output_type": "stream",
     "text": [
      "_________________________________________________________________\n",
      "Layer (type)                 Output Shape              Param #   \n",
      "=================================================================\n",
      "input_1 (InputLayer)         (None, 784)               0         \n",
      "_________________________________________________________________\n",
      "dense_1 (Dense)              (None, 32)                25120     \n",
      "_________________________________________________________________\n",
      "dense_2 (Dense)              (None, 784)               25872     \n",
      "=================================================================\n",
      "Total params: 50,992\n",
      "Trainable params: 50,992\n",
      "Non-trainable params: 0\n",
      "_________________________________________________________________\n"
     ]
    }
   ],
   "source": [
    "from keras.layers import Input, Dense\n",
    "from keras.models import Model\n",
    "from keras import regularizers\n",
    "\n",
    "# this is the size of our encoded representations\n",
    "encoding_dim = 32  # 32 floats -> compression of factor 24.5, assuming the input is 784 floats\n",
    "\n",
    "# this is our input placeholder\n",
    "input_img = Input(shape=(784,))\n",
    "# \"encoded\" is the encoded representation of the input\n",
    "encoder = Dense(encoding_dim, activation='relu',activity_regularizer=regularizers.l1(10e-5))(input_img)\n",
    "# \"decoded\" is the lossy reconstruction of the input\n",
    "decoder = Dense(784, activation='sigmoid')(encoder)\n",
    "\n",
    "# this model maps an input to its reconstruction\n",
    "autoencoder = Model(inputs=input_img, outputs=decoder)\n",
    "autoencoder.summary()"
   ]
  },
  {
   "cell_type": "markdown",
   "metadata": {},
   "source": [
    "下面我们训练自编码器，来重构MNIST中的数字，这里使用逐像素的交叉熵作为损失函数，优化器为adam"
   ]
  },
  {
   "cell_type": "code",
   "execution_count": 2,
   "metadata": {
    "collapsed": false
   },
   "outputs": [],
   "source": [
    "from keras import optimizers\n",
    "# Ada = optimizers.Adadelta(lr=5.0)\n",
    "autoencoder.compile(optimizer='adadelta', loss='binary_crossentropy')"
   ]
  },
  {
   "cell_type": "markdown",
   "metadata": {},
   "source": [
    "然后准备MNIST数据，将其归一化和向量化，然后训练："
   ]
  },
  {
   "cell_type": "code",
   "execution_count": 3,
   "metadata": {
    "collapsed": false
   },
   "outputs": [
    {
     "name": "stdout",
     "output_type": "stream",
     "text": [
      "(60000, 784)\n",
      "(10000, 784)\n",
      "Train on 60000 samples, validate on 10000 samples\n",
      "Epoch 1/30\n",
      "7s - loss: 0.6835 - val_loss: 0.6607\n",
      "Epoch 2/30\n",
      "1s - loss: 0.6440 - val_loss: 0.6273\n",
      "Epoch 3/30\n",
      "1s - loss: 0.6111 - val_loss: 0.5952\n",
      "Epoch 4/30\n",
      "1s - loss: 0.5802 - val_loss: 0.5656\n",
      "Epoch 5/30\n",
      "1s - loss: 0.5519 - val_loss: 0.5386\n",
      "Epoch 6/30\n",
      "1s - loss: 0.5264 - val_loss: 0.5146\n",
      "Epoch 7/30\n",
      "1s - loss: 0.5037 - val_loss: 0.4932\n",
      "Epoch 8/30\n",
      "1s - loss: 0.4836 - val_loss: 0.4744\n",
      "Epoch 9/30\n",
      "1s - loss: 0.4658 - val_loss: 0.4577\n",
      "Epoch 10/30\n",
      "1s - loss: 0.4501 - val_loss: 0.4430\n",
      "Epoch 11/30\n",
      "1s - loss: 0.4362 - val_loss: 0.4299\n",
      "Epoch 12/30\n",
      "1s - loss: 0.4239 - val_loss: 0.4183\n",
      "Epoch 13/30\n",
      "1s - loss: 0.4129 - val_loss: 0.4079\n",
      "Epoch 14/30\n",
      "1s - loss: 0.4030 - val_loss: 0.3986\n",
      "Epoch 15/30\n",
      "1s - loss: 0.3942 - val_loss: 0.3902\n",
      "Epoch 16/30\n",
      "1s - loss: 0.3862 - val_loss: 0.3826\n",
      "Epoch 17/30\n",
      "1s - loss: 0.3790 - val_loss: 0.3758\n",
      "Epoch 18/30\n",
      "1s - loss: 0.3725 - val_loss: 0.3696\n",
      "Epoch 19/30\n",
      "1s - loss: 0.3665 - val_loss: 0.3639\n",
      "Epoch 20/30\n",
      "1s - loss: 0.3611 - val_loss: 0.3587\n",
      "Epoch 21/30\n",
      "1s - loss: 0.3561 - val_loss: 0.3539\n",
      "Epoch 22/30\n",
      "1s - loss: 0.3516 - val_loss: 0.3496\n",
      "Epoch 23/30\n",
      "1s - loss: 0.3474 - val_loss: 0.3455\n",
      "Epoch 24/30\n",
      "1s - loss: 0.3435 - val_loss: 0.3418\n",
      "Epoch 25/30\n",
      "1s - loss: 0.3399 - val_loss: 0.3384\n",
      "Epoch 26/30\n",
      "1s - loss: 0.3366 - val_loss: 0.3352\n",
      "Epoch 27/30\n",
      "1s - loss: 0.3335 - val_loss: 0.3322\n",
      "Epoch 28/30\n",
      "1s - loss: 0.3307 - val_loss: 0.3295\n",
      "Epoch 29/30\n",
      "1s - loss: 0.3280 - val_loss: 0.3269\n",
      "Epoch 30/30\n",
      "1s - loss: 0.3255 - val_loss: 0.3245\n"
     ]
    },
    {
     "data": {
      "text/plain": [
       "<keras.callbacks.History at 0x7f07dcd79650>"
      ]
     },
     "execution_count": 3,
     "metadata": {},
     "output_type": "execute_result"
    }
   ],
   "source": [
    "from keras.datasets import mnist\n",
    "import numpy as np\n",
    "(x_train, _), (x_test, _) = mnist.load_data()\n",
    "\n",
    "x_train = x_train.astype('float32') / 255.\n",
    "x_test = x_test.astype('float32') / 255.\n",
    "x_train = x_train.reshape((len(x_train), np.prod(x_train.shape[1:])))\n",
    "x_test = x_test.reshape((len(x_test), np.prod(x_test.shape[1:])))\n",
    "print x_train.shape\n",
    "print x_test.shape\n",
    "\n",
    "autoencoder.fit(x_train, x_train,\n",
    "                epochs=30,\n",
    "                batch_size=256,\n",
    "                shuffle=True,\n",
    "                verbose=2,\n",
    "                validation_data=(x_test, x_test))"
   ]
  },
  {
   "cell_type": "markdown",
   "metadata": {},
   "source": [
    "50个epoch后，看起来我们的自编码器优化的不错了，损失是0.10，我们可视化一下重构出来的输出："
   ]
  },
  {
   "cell_type": "code",
   "execution_count": 4,
   "metadata": {
    "collapsed": false
   },
   "outputs": [
    {
     "name": "stderr",
     "output_type": "stream",
     "text": [
      "/usr/local/lib/python2.7/dist-packages/matplotlib/font_manager.py:273: UserWarning: Matplotlib is building the font cache using fc-list. This may take a moment.\n",
      "  warnings.warn('Matplotlib is building the font cache using fc-list. This may take a moment.')\n"
     ]
    },
    {
     "data": {
      "image/png": "[encoded data removed]",
      "text/plain": [
       "<matplotlib.figure.Figure at 0x7f07d0082850>"
      ]
     },
     "metadata": {},
     "output_type": "display_data"
    }
   ],
   "source": [
    "import matplotlib.pyplot as plt\n",
    "%matplotlib inline\n",
    "\n",
    "# Decode test images \n",
    "decoded_imgs = autoencoder.predict(x_test)\n",
    "\n",
    "n = 10  # how many digits we will display\n",
    "plt.figure(figsize=(20, 4))\n",
    "for i in range(n):\n",
    "    # display original\n",
    "    ax = plt.subplot(2, n, i + 1)\n",
    "    plt.imshow(x_test[i].reshape(28, 28))\n",
    "    plt.gray()\n",
    "    ax.get_xaxis().set_visible(False)\n",
    "    ax.get_yaxis().set_visible(False)\n",
    "\n",
    "    # display reconstruction\n",
    "    ax = plt.subplot(2, n, i + 1 + n)\n",
    "    plt.imshow(decoded_imgs[i].reshape(28, 28))\n",
    "    plt.gray()\n",
    "    ax.get_xaxis().set_visible(False)\n",
    "    ax.get_yaxis().set_visible(False)\n",
    "plt.show()"
   ]
  },
  {
   "cell_type": "markdown",
   "metadata": {},
   "source": [
    "## 2.稀疏自编码器：为码字加上稀疏性约束\n",
    "刚刚我们的隐层有32个神经元，这种情况下，一般而言自编码器学到的是PCA的一个近似（PCA不想科普了）。但是如果我们对隐层单元施加稀疏性约束的话，会得到更为紧凑的表达，只有一小部分神经元会被激活。在Keras中，我们可以通过添加一个activity_regularizer达到对某层激活值进行约束的目的："
   ]
  },
  {
   "cell_type": "code",
   "execution_count": 5,
   "metadata": {
    "collapsed": false
   },
   "outputs": [
    {
     "name": "stdout",
     "output_type": "stream",
     "text": [
      "_________________________________________________________________\n",
      "Layer (type)                 Output Shape              Param #   \n",
      "=================================================================\n",
      "input_2 (InputLayer)         (None, 784)               0         \n",
      "_________________________________________________________________\n",
      "dense_3 (Dense)              (None, 32)                25120     \n",
      "_________________________________________________________________\n",
      "dense_4 (Dense)              (None, 784)               25872     \n",
      "=================================================================\n",
      "Total params: 50,992\n",
      "Trainable params: 50,992\n",
      "Non-trainable params: 0\n",
      "_________________________________________________________________\n",
      "Train on 60000 samples, validate on 10000 samples\n",
      "Epoch 1/30\n",
      "1s - loss: 0.6861 - val_loss: 0.6607\n",
      "Epoch 2/30\n",
      "1s - loss: 0.6440 - val_loss: 0.6273\n",
      "Epoch 3/30\n",
      "1s - loss: 0.6112 - val_loss: 0.5952\n",
      "Epoch 4/30\n",
      "1s - loss: 0.5802 - val_loss: 0.5656\n",
      "Epoch 5/30\n",
      "1s - loss: 0.5519 - val_loss: 0.5387\n",
      "Epoch 6/30\n",
      "1s - loss: 0.5264 - val_loss: 0.5146\n",
      "Epoch 7/30\n",
      "1s - loss: 0.5037 - val_loss: 0.4933\n",
      "Epoch 8/30\n",
      "1s - loss: 0.4836 - val_loss: 0.4744\n",
      "Epoch 9/30\n",
      "1s - loss: 0.4658 - val_loss: 0.4577\n",
      "Epoch 10/30\n",
      "1s - loss: 0.4501 - val_loss: 0.4430\n",
      "Epoch 11/30\n",
      "1s - loss: 0.4362 - val_loss: 0.4299\n",
      "Epoch 12/30\n",
      "1s - loss: 0.4239 - val_loss: 0.4183\n",
      "Epoch 13/30\n",
      "1s - loss: 0.4129 - val_loss: 0.4079\n",
      "Epoch 14/30\n",
      "1s - loss: 0.4030 - val_loss: 0.3986\n",
      "Epoch 15/30\n",
      "1s - loss: 0.3942 - val_loss: 0.3902\n",
      "Epoch 16/30\n",
      "1s - loss: 0.3862 - val_loss: 0.3826\n",
      "Epoch 17/30\n",
      "1s - loss: 0.3790 - val_loss: 0.3758\n",
      "Epoch 18/30\n",
      "1s - loss: 0.3725 - val_loss: 0.3696\n",
      "Epoch 19/30\n",
      "1s - loss: 0.3665 - val_loss: 0.3639\n",
      "Epoch 20/30\n",
      "1s - loss: 0.3611 - val_loss: 0.3587\n",
      "Epoch 21/30\n",
      "1s - loss: 0.3561 - val_loss: 0.3539\n",
      "Epoch 22/30\n",
      "1s - loss: 0.3516 - val_loss: 0.3496\n",
      "Epoch 23/30\n",
      "1s - loss: 0.3474 - val_loss: 0.3455\n",
      "Epoch 24/30\n",
      "1s - loss: 0.3435 - val_loss: 0.3418\n",
      "Epoch 25/30\n",
      "1s - loss: 0.3399 - val_loss: 0.3384\n",
      "Epoch 26/30\n",
      "1s - loss: 0.3366 - val_loss: 0.3352\n",
      "Epoch 27/30\n",
      "1s - loss: 0.3335 - val_loss: 0.3322\n",
      "Epoch 28/30\n",
      "1s - loss: 0.3307 - val_loss: 0.3295\n",
      "Epoch 29/30\n",
      "1s - loss: 0.3280 - val_loss: 0.3269\n",
      "Epoch 30/30\n",
      "1s - loss: 0.3255 - val_loss: 0.3245\n"
     ]
    },
    {
     "data": {
      "text/plain": [
       "<keras.callbacks.History at 0x7f07dcc03b10>"
      ]
     },
     "execution_count": 5,
     "metadata": {},
     "output_type": "execute_result"
    }
   ],
   "source": [
    "from keras import regularizers\n",
    "\n",
    "encoding_dim = 32\n",
    "\n",
    "input_img = Input(shape=(784,))\n",
    "# add a Dense layer with a L1 activity regularizer\n",
    "encoded = Dense(encoding_dim, activation='relu',\n",
    "                activity_regularizer=regularizers.l1(10e-5))(input_img)\n",
    "decoded = Dense(784, activation='sigmoid')(encoded)\n",
    "\n",
    "autoencoder = Model(inputs=input_img, outputs=decoded)\n",
    "autoencoder.summary()\n",
    "autoencoder.compile(optimizer='adadelta', loss='binary_crossentropy')\n",
    "autoencoder.fit(x_train, x_train,\n",
    "                epochs=30,\n",
    "                batch_size=256,\n",
    "                shuffle=True,\n",
    "                verbose=2,\n",
    "                validation_data=(x_test, x_test))"
   ]
  },
  {
   "cell_type": "markdown",
   "metadata": {},
   "source": [
    "因为我们添加了正则性约束，所以模型过拟合的风险降低，我们可以训练多几次，这次训练100个epoch，得到损失为0.11，多出来的0.01基本上是由于正则项造成的。结果上没有毛线差别，区别在于编码出来的码字更加稀疏了。稀疏自编码器的在10000个测试图片上的码字均值为3.33，而之前的为7.30,以下代码就不再注释了。"
   ]
  },
  {
   "cell_type": "markdown",
   "metadata": {},
   "source": [
    "## 3.深度自编码器：把自编码器叠起来"
   ]
  },
  {
   "cell_type": "code",
   "execution_count": 6,
   "metadata": {
    "collapsed": false
   },
   "outputs": [
    {
     "name": "stdout",
     "output_type": "stream",
     "text": [
      "_________________________________________________________________\n",
      "Layer (type)                 Output Shape              Param #   \n",
      "=================================================================\n",
      "input_3 (InputLayer)         (None, 784)               0         \n",
      "_________________________________________________________________\n",
      "dense_5 (Dense)              (None, 128)               100480    \n",
      "_________________________________________________________________\n",
      "dense_6 (Dense)              (None, 64)                8256      \n",
      "_________________________________________________________________\n",
      "dense_7 (Dense)              (None, 32)                2080      \n",
      "_________________________________________________________________\n",
      "dense_8 (Dense)              (None, 64)                2112      \n",
      "_________________________________________________________________\n",
      "dense_9 (Dense)              (None, 128)               8320      \n",
      "_________________________________________________________________\n",
      "dense_10 (Dense)             (None, 784)               101136    \n",
      "=================================================================\n",
      "Total params: 222,384\n",
      "Trainable params: 222,384\n",
      "Non-trainable params: 0\n",
      "_________________________________________________________________\n",
      "Train on 60000 samples, validate on 10000 samples\n",
      "Epoch 1/30\n",
      "1s - loss: 0.3433 - val_loss: 0.2640\n",
      "Epoch 2/30\n",
      "1s - loss: 0.2602 - val_loss: 0.2562\n",
      "Epoch 3/30\n",
      "1s - loss: 0.2521 - val_loss: 0.2454\n",
      "Epoch 4/30\n",
      "1s - loss: 0.2324 - val_loss: 0.2194\n",
      "Epoch 5/30\n",
      "1s - loss: 0.2136 - val_loss: 0.2082\n",
      "Epoch 6/30\n",
      "1s - loss: 0.2053 - val_loss: 0.1997\n",
      "Epoch 7/30\n",
      "1s - loss: 0.1947 - val_loss: 0.1873\n",
      "Epoch 8/30\n",
      "1s - loss: 0.1832 - val_loss: 0.1784\n",
      "Epoch 9/30\n",
      "1s - loss: 0.1764 - val_loss: 0.1733\n",
      "Epoch 10/30\n",
      "1s - loss: 0.1709 - val_loss: 0.1669\n",
      "Epoch 11/30\n",
      "1s - loss: 0.1665 - val_loss: 0.1624\n",
      "Epoch 12/30\n",
      "1s - loss: 0.1631 - val_loss: 0.1599\n",
      "Epoch 13/30\n",
      "1s - loss: 0.1601 - val_loss: 0.1586\n",
      "Epoch 14/30\n",
      "1s - loss: 0.1575 - val_loss: 0.1549\n",
      "Epoch 15/30\n",
      "1s - loss: 0.1548 - val_loss: 0.1510\n",
      "Epoch 16/30\n",
      "1s - loss: 0.1520 - val_loss: 0.1483\n",
      "Epoch 17/30\n",
      "1s - loss: 0.1493 - val_loss: 0.1467\n",
      "Epoch 18/30\n",
      "1s - loss: 0.1470 - val_loss: 0.1438\n",
      "Epoch 19/30\n",
      "1s - loss: 0.1450 - val_loss: 0.1419\n",
      "Epoch 20/30\n",
      "1s - loss: 0.1430 - val_loss: 0.1406\n",
      "Epoch 21/30\n",
      "1s - loss: 0.1411 - val_loss: 0.1392\n",
      "Epoch 22/30\n",
      "1s - loss: 0.1392 - val_loss: 0.1361\n",
      "Epoch 23/30\n",
      "1s - loss: 0.1375 - val_loss: 0.1349\n",
      "Epoch 24/30\n",
      "1s - loss: 0.1360 - val_loss: 0.1337\n",
      "Epoch 25/30\n",
      "1s - loss: 0.1346 - val_loss: 0.1332\n",
      "Epoch 26/30\n",
      "1s - loss: 0.1334 - val_loss: 0.1312\n",
      "Epoch 27/30\n",
      "1s - loss: 0.1321 - val_loss: 0.1304\n",
      "Epoch 28/30\n",
      "1s - loss: 0.1313 - val_loss: 0.1288\n",
      "Epoch 29/30\n",
      "1s - loss: 0.1302 - val_loss: 0.1275\n",
      "Epoch 30/30\n",
      "1s - loss: 0.1292 - val_loss: 0.1270\n"
     ]
    },
    {
     "data": {
      "text/plain": [
       "<keras.callbacks.History at 0x7f0781fa8590>"
      ]
     },
     "execution_count": 6,
     "metadata": {},
     "output_type": "execute_result"
    }
   ],
   "source": [
    "input_img = Input(shape=(784,))\n",
    "encoded = Dense(128, activation='relu')(input_img)\n",
    "encoded = Dense(64, activation='relu')(encoded)\n",
    "encoded = Dense(32, activation='relu')(encoded)\n",
    "\n",
    "decoded = Dense(64, activation='relu')(encoded)\n",
    "decoded = Dense(128, activation='relu')(decoded)\n",
    "decoded = Dense(784, activation='sigmoid')(decoded)\n",
    "\n",
    "autoencoder = Model(inputs=input_img, outputs=decoded)\n",
    "autoencoder.summary()\n",
    "autoencoder.compile(optimizer='adadelta', loss='binary_crossentropy')\n",
    "\n",
    "autoencoder.fit(x_train, x_train,\n",
    "                epochs=30,\n",
    "                batch_size=256,\n",
    "                shuffle=True,\n",
    "                verbose=2,\n",
    "                validation_data=(x_test, x_test))"
   ]
  },
  {
   "cell_type": "markdown",
   "metadata": {},
   "source": [
    "## 4.卷积自编码器：用卷积层搭建自编码器"
   ]
  }
 ],
 "metadata": {
  "kernelspec": {
   "display_name": "Python 2",
   "language": "python",
   "name": "python2"
  },
  "language_info": {
   "codemirror_mode": {
    "name": "ipython",
    "version": 2
   },
   "file_extension": ".py",
   "mimetype": "text/x-python",
   "name": "python",
   "nbconvert_exporter": "python",
   "pygments_lexer": "ipython2",
   "version": "2.7.6"
  }
 },
 "nbformat": 4,
 "nbformat_minor": 1
}
