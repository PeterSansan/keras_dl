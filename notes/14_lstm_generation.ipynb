{
 "cells": [
  {
   "cell_type": "markdown",
   "metadata": {},
   "source": [
    "# 14.LSTM文本生成"
   ]
  },
  {
   "cell_type": "code",
   "execution_count": 1,
   "metadata": {
    "collapsed": false
   },
   "outputs": [
    {
     "name": "stderr",
     "output_type": "stream",
     "text": [
      "Using TensorFlow backend.\n"
     ]
    }
   ],
   "source": [
    "from __future__ import print_function\n",
    "from keras.models import Sequential\n",
    "from keras.layers import Dense, Activation\n",
    "from keras.layers import LSTM\n",
    "from keras.optimizers import RMSprop\n",
    "from keras.utils.data_utils import get_file\n",
    "import numpy as np\n",
    "import random\n",
    "import sys"
   ]
  },
  {
   "cell_type": "code",
   "execution_count": 2,
   "metadata": {
    "collapsed": false
   },
   "outputs": [
    {
     "name": "stdout",
     "output_type": "stream",
     "text": [
      "corpus length: 600901\n",
      "total chars: 59\n"
     ]
    }
   ],
   "source": [
    "path = get_file('nietzsche.txt', origin='https://s3.amazonaws.com/text-datasets/nietzsche.txt')\n",
    "text = open(path).read().lower()\n",
    "print('corpus length:', len(text))\n",
    "\n",
    "chars = sorted(list(set(text)))\n",
    "print('total chars:', len(chars))\n",
    "char_indices = dict((c, i) for i, c in enumerate(chars))\n",
    "indices_char = dict((i, c) for i, c in enumerate(chars))"
   ]
  },
  {
   "cell_type": "code",
   "execution_count": 3,
   "metadata": {
    "collapsed": false
   },
   "outputs": [
    {
     "name": "stdout",
     "output_type": "stream",
     "text": [
      "nb sequences: 200287\n"
     ]
    }
   ],
   "source": [
    "# cut the text in semi-redundant sequences of maxlen characters\n",
    "maxlen = 40\n",
    "step = 3\n",
    "sentences = []\n",
    "next_chars = []\n",
    "for i in range(0, len(text) - maxlen, step): # 每隔3步取一个maxlen长的句子存到sentenecs\n",
    "    sentences.append(text[i: i + maxlen])\n",
    "    next_chars.append(text[i + maxlen]) # 每一个句子后面那个字母，即预测值\n",
    "print('nb sequences:', len(sentences))"
   ]
  },
  {
   "cell_type": "code",
   "execution_count": 4,
   "metadata": {
    "collapsed": false
   },
   "outputs": [
    {
     "name": "stdout",
     "output_type": "stream",
     "text": [
      "Vectorization...\n"
     ]
    }
   ],
   "source": [
    "print('Vectorization...')  # 序列化，转为one-hot code\n",
    "X = np.zeros((len(sentences), maxlen, len(chars)), dtype=np.bool)\n",
    "y = np.zeros((len(sentences), len(chars)), dtype=np.bool)\n",
    "for i, sentence in enumerate(sentences):\n",
    "    for t, char in enumerate(sentence):\n",
    "        X[i, t, char_indices[char]] = 1\n",
    "    y[i, char_indices[next_chars[i]]] = 1"
   ]
  },
  {
   "cell_type": "code",
   "execution_count": 5,
   "metadata": {
    "collapsed": false
   },
   "outputs": [
    {
     "name": "stdout",
     "output_type": "stream",
     "text": [
      "Build model...\n",
      "_________________________________________________________________\n",
      "Layer (type)                 Output Shape              Param #   \n",
      "=================================================================\n",
      "lstm_1 (LSTM)                (None, 128)               96256     \n",
      "_________________________________________________________________\n",
      "dense_1 (Dense)              (None, 59)                7611      \n",
      "_________________________________________________________________\n",
      "activation_1 (Activation)    (None, 59)                0         \n",
      "=================================================================\n",
      "Total params: 103,867\n",
      "Trainable params: 103,867\n",
      "Non-trainable params: 0\n",
      "_________________________________________________________________\n"
     ]
    }
   ],
   "source": [
    "# build the model: a single LSTM\n",
    "print('Build model...')\n",
    "model = Sequential()\n",
    "model.add(LSTM(128, input_shape=(maxlen, len(chars))))\n",
    "model.add(Dense(len(chars)))\n",
    "model.add(Activation('softmax'))\n",
    "\n",
    "optimizer = RMSprop(lr=0.01)\n",
    "model.compile(loss='categorical_crossentropy', optimizer=optimizer)\n",
    "model.summary()"
   ]
  },
  {
   "cell_type": "code",
   "execution_count": 6,
   "metadata": {
    "collapsed": true
   },
   "outputs": [],
   "source": [
    "def sample(preds, temperature=1.0):\n",
    "    # helper function to sample an index from a probability array\n",
    "    preds = np.asarray(preds).astype('float64')\n",
    "    preds = np.log(preds) / temperature\n",
    "    exp_preds = np.exp(preds)\n",
    "    preds = exp_preds / np.sum(exp_preds)\n",
    "    probas = np.random.multinomial(1, preds, 1)\n",
    "    return np.argmax(probas)"
   ]
  },
  {
   "cell_type": "code",
   "execution_count": 7,
   "metadata": {
    "collapsed": false
   },
   "outputs": [
    {
     "name": "stdout",
     "output_type": "stream",
     "text": [
      "\n",
      "--------------------------------------------------\n",
      "Iteration 1\n",
      "Epoch 1/1\n",
      "58s - loss: 2.0006\n",
      "\n",
      "----- diversity: 0.2\n",
      "----- Generating with seed: \"re the other forms of nature, with fearl\"\n",
      "re the other forms of nature, with fearly the seever in the the more and the present of the world the man of the science of the seep the seep the feeling to the free the free and the problems of the seep the seement of the for the seever the seever the world and the free and and the seeming to the morality of the seever and the seever and the seeming and the free of the seement and the for the seeming the present and the seever the such\n",
      "\n",
      "----- diversity: 0.5\n",
      "----- Generating with seed: \"re the other forms of nature, with fearl\"\n",
      "re the other forms of nature, with fearly still with so the greather of the comple in the free that the for steararing and of the cause the world and in the rewinged for the frim a courme and instincted reperstutes to the for opinitian this perhaps and the such of science and scearation un the remust from stands and still the feering to the last of the position, the preserate of the good in the free and think the soul and their the prev\n",
      "\n",
      "----- diversity: 1.0\n",
      "----- Generating with seed: \"re the other forms of nature, with fearl\"\n",
      "re the other forms of nature, with fearly such decoucely\n",
      "latking, posind\n",
      "awerliguratics,, the oor  if that wart dustrened is morrete he knowledge and\n",
      "alluver, that the pusting of tymies:\n",
      "lesition. his\n",
      "wisk enoul free be unlight, other escentior of the to the in the =relemfinity and one word strune\n",
      "but other frene\n",
      "and courate one wroch yot hourh or has geveremanting has c acour rusure clol dfesincturs\"\n",
      "we have thous whysh as a couric, of\n",
      "\n",
      "----- diversity: 1.2\n",
      "----- Generating with seed: \"re the other forms of nature, with fearl\"\n",
      "re the other forms of nature, with fearly ands\n",
      "\"more as a jufues clou.ory thiins proofulity,\n",
      "time), and hy one an yetergumous! it, hathen disinction timed, spired sapely dous frickions; is that humatian. as fact ig the thuth; alcoaking cine, thar humon of stood, clained diticivally theirroury arotiting more\n",
      "invervining- aoolefal unnadu, to thher cal teniles \"conducees--that\n",
      "st in trail bectuous; way moted alitaning worldces. what kepoth\n",
      "\n",
      "--------------------------------------------------\n",
      "Iteration 2\n",
      "Epoch 1/1\n",
      "57s - loss: 1.6458\n",
      "\n",
      "----- diversity: 0.2\n",
      "----- Generating with seed: \", the dream is a _seeking and\n",
      "presenting\"\n",
      ", the dream is a _seeking and\n",
      "presenting and the self-religion of the say and the say and the self-man and soul of the self-religion and conscience of the properious of the the such and the contempth of conscience of the presenting the self-men and the former and the more and the self-men and the strudely and internent and are and the contempt to the say and the some and the sacking the some all the contempth of the self-more and the so\n",
      "\n",
      "----- diversity: 0.5\n",
      "----- Generating with seed: \", the dream is a _seeking and\n",
      "presenting\"\n",
      ", the dream is a _seeking and\n",
      "presenting the say be decention of the some sensed in their judg, permand could be the self about he\n",
      "religion and the\n",
      "possible and into the powerness, such a live, of the and the belief in the heaves and the belief one have sacrificed the superfacted, and the mankind the the interner of an act of the belief the more even which of the god belief which dees and at the more the belief and indelvents ideas of s\n",
      "\n",
      "----- diversity: 1.0\n",
      "----- Generating with seed: \", the dream is a _seeking and\n",
      "presenting\"\n",
      ", the dream is a _seeking and\n",
      "presenting thjegon to morality. a sciensed centurs were at to freesiarial themselves, shires. the spirtrablly own prevised: are do their ideality,\n",
      "stiaded soid.\n",
      "their belief not what gentines intilding now\n",
      "me, itself perdiveded, avoid and prevary\n",
      "strungring exreation think and free nordy; in\n",
      "strrngness\n",
      ".mo of appeads impulsionst agrenessas of etreas, at\n",
      "promporinal, by seemly come vantlepmoral\n",
      "have that\n",
      "as \n",
      "\n",
      "----- diversity: 1.2\n",
      "----- Generating with seed: \", the dream is a _seeking and\n",
      "presenting\"\n",
      ", the dream is a _seeking and\n",
      "presenting. revidual,, adisaviation, an encum spon): l\n",
      "thing points, as wan, for it word, in wto belong the degedion.--light\" \"healy\n",
      "masifut--you who more thise--of nothern formency\n",
      "and act the cond on thingstheless nowever accorded is thening off refrically\n",
      "main, as blatives, to abine anetes is many the long vologive bark among it\n",
      "modernd there valientherol owinupon it may, effect casemany brodes as a cust\n",
      "\n",
      "--------------------------------------------------\n",
      "Iteration 3\n",
      "Epoch 1/1\n",
      "57s - loss: 1.5547\n",
      "\n",
      "----- diversity: 0.2\n",
      "----- Generating with seed: \"mity of the english\n",
      "populace in which sh\"\n",
      "mity of the english\n",
      "populace in which she has been the present to the self-destruction of the self-states and the same to the present the very protrect and the present the present to the most proverence the self-despection of the self-destruction of the present the states of the most possess of the most and the self-do and and the present the self-destruction of the consciences and prosouse to the most proveration of the most discition \n",
      "\n",
      "----- diversity: 0.5\n",
      "----- Generating with seed: \"mity of the english\n",
      "populace in which sh\"\n",
      "mity of the english\n",
      "populace in which shan presend to the very consedinces and self-most and heart of a dreads he rather in the most ast so the possitive of the common of the out of his interpretorion with the philosophy of the self-darkness of the presentual cannot in the most an are of a period of the consciences of his philosophy that god, who earth, heart and we heart and personal has fut of the most posed to at prost of the worst o\n",
      "\n",
      "----- diversity: 1.0\n",
      "----- Generating with seed: \"mity of the english\n",
      "populace in which sh\"\n",
      "mity of the english\n",
      "populace in which shule, a indessifages promisation and incoased of eneis--a\n",
      "pars\n",
      "of philosophy, ands, forts.--himself, to knowledge as a nei, whysel, \"bracping? ere that and cate--proforce of\n",
      "our bracte\n",
      "in this cas more the forgat, and possess\"; onries? in whatlesgly mivedes\n",
      "girdly, it so find eass? nots in essietated, ut how\n",
      "nablect has that community--invelocnelfing\n",
      "and nor\n",
      "the posible); instandings to master \"man\n",
      "\n",
      "----- diversity: 1.2\n",
      "----- Generating with seed: \"mity of the english\n",
      "populace in which sh\"\n",
      "mity of the english\n",
      "populace in which shrus: all truth.\n",
      "erroltiap ther in condruty: in\n",
      "the conorce--of is presend philosophical mochen.\" asdancefulmany, afpe mos, sanched tercinigious for our roult outturs\n",
      "upon\n",
      "in presence too, and whose his patts--not origin of\n",
      "anonence\n",
      "of the nature hifhic pare belieftorn in previlent\n",
      "vilor\n",
      "juacomy without are\n",
      "perhappyor levered, sikerungnes and mother vast progos fortone their demous. to a\n",
      "beaw.plo n\n",
      "\n",
      "--------------------------------------------------\n",
      "Iteration 4\n",
      "Epoch 1/1\n",
      "57s - loss: 1.5092\n",
      "\n",
      "----- diversity: 0.2\n",
      "----- Generating with seed: \"ion (and as i have said, his whole workm\"\n",
      "ion (and as i have said, his whole workmour of the most its own the stranger of the stranger and the problem of the sentiment of the conscience of the conscience of the artists of the strive and the most state of the same to the conscience of the thought of the conscience of the conscience of the conscience of the propertal in the sense of the conscience of the senses and the propertal in the sense of the conscience of the conscience of\n",
      "\n",
      "----- diversity: 0.5\n",
      "----- Generating with seed: \"ion (and as i have said, his whole workm\"\n",
      "ion (and as i have said, his whole workmor of the species of a mature, of the \"destray that a mature and artisticism, which man the properturation, and itself, and the nemental sade the sense--he has the\n",
      "shain in the out of the subject as a religious the most artists of something in the philosophers of the world. that is the time to a kind of religious any receptives and the religious itself and the livess that is the sense of a to the \n",
      "\n",
      "----- diversity: 1.0\n",
      "----- Generating with seed: \"ion (and as i have said, his whole workm\"\n",
      "ion (and as i have said, his whole workmin hath sentiss tralsnasten.\n",
      "\n",
      "\n",
      "20. undertavery be a ciltority. but mean, certain pratess in the midatis it as a potiect,\n",
      "howevers and and tudanuticre as we imponil but\n",
      "thus\" with usly that the newlest in the interpretenty\n",
      "nothing..\n",
      "\n",
      "\n",
      "28. their mowity--of ast thind \"thnighd, as men, which maniceliziest of the significated, whos\"\" modestance experiences it is\n",
      "estable regulation\"\n",
      "as only which though\n",
      "\n",
      "----- diversity: 1.2\n",
      "----- Generating with seed: \"ion (and as i have said, his whole workm\"\n",
      "ion (and as i have said, his whole workmany imon\n",
      "as no creathly asticently fevert and cause through his iestly that thut.sca\n",
      "mankind., the ticdacion\"\n",
      "as not\n",
      "only ple\"ce to the\n",
      "namable us; no fare.\n",
      "the predeless\" wish-digracrorowgs truth of kindselvction may clust self-concimation by the\n",
      "ple\"s oittles. the\n",
      "undarpossion?--who ear relogorerk, indivivous finerfo, suscless,\n",
      "rity most become shive. i mumtived, immoral\n",
      "almost hairs, and imposu\n"
     ]
    }
   ],
   "source": [
    "# train the model, output generated text after each iteration\n",
    "for iteration in range(1, 5):  # 为了显示好看，减少了轮数\n",
    "    print()\n",
    "    print('-' * 50)\n",
    "    print('Iteration', iteration)\n",
    "    model.fit(X, y,\n",
    "              batch_size=128,\n",
    "              verbose=2,\n",
    "              epochs=1)\n",
    "\n",
    "    start_index = random.randint(0, len(text) - maxlen - 1)\n",
    "\n",
    "    for diversity in [0.2, 0.5, 1.0, 1.2]:\n",
    "        print()\n",
    "        print('----- diversity:', diversity)\n",
    "\n",
    "        generated = ''\n",
    "        sentence = text[start_index: start_index + maxlen]\n",
    "        generated += sentence\n",
    "        print('----- Generating with seed: \"' + sentence + '\"')\n",
    "        sys.stdout.write(generated)\n",
    "\n",
    "        for i in range(400):\n",
    "            x = np.zeros((1, maxlen, len(chars)))\n",
    "            for t, char in enumerate(sentence):\n",
    "                x[0, t, char_indices[char]] = 1.\n",
    "\n",
    "            preds = model.predict(x, verbose=0)[0]\n",
    "            next_index = sample(preds, diversity)\n",
    "            next_char = indices_char[next_index]\n",
    "\n",
    "            generated += next_char\n",
    "            sentence = sentence[1:] + next_char\n",
    "\n",
    "            sys.stdout.write(next_char)\n",
    "            sys.stdout.flush()\n",
    "        print()"
   ]
  }
 ],
 "metadata": {
  "kernelspec": {
   "display_name": "Python 2",
   "language": "python",
   "name": "python2"
  },
  "language_info": {
   "codemirror_mode": {
    "name": "ipython",
    "version": 2
   },
   "file_extension": ".py",
   "mimetype": "text/x-python",
   "name": "python",
   "nbconvert_exporter": "python",
   "pygments_lexer": "ipython2",
   "version": "2.7.12"
  }
 },
 "nbformat": 4,
 "nbformat_minor": 2
}
